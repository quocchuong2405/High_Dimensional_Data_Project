{
 "cells": [
  {
   "cell_type": "code",
   "execution_count": 4,
   "metadata": {},
   "outputs": [],
   "source": [
    "import folium\n",
    "import numpy as np\n",
    "import pandas as pd\n",
    "import seaborn as sns\n",
    "import math\n",
    "from math import radians, sin, cos, sqrt\n",
    "import os\n",
    "import geopandas as gpd\n",
    "import psycopg2\n",
    "import ast\n",
    "import matplotlib.pyplot as plt\n",
    "import datetime\n",
    "from psycopg2 import sql\n",
    "from psycopg2.extras import Json\n",
    "from shapely.geometry import LineString, mapping, box, Polygon, Point\n",
    "from shapely import wkt\n",
    "from shapely.wkb import loads\n",
    "import shapely\n",
    "import json\n",
    "from myutil import *\n",
    "import scipy\n",
    "import myutil\n",
    "import pickle\n",
    "\n",
    "from geopy.distance import great_circle\n",
    "from scipy.spatial import KDTree, cKDTree\n",
    "from sklearn.neighbors import NearestNeighbors\n",
    "#from pykdtree.kdtree import KDTree\n",
    "from sklearn.neighbors import BallTree\n",
    "import pykdtree\n",
    "import rtree \n",
    "import pyqtree \n",
    "import quads\n",
    "from quads import QuadTree\n",
    "from pygeos import STRtree"
   ]
  },
  {
   "cell_type": "markdown",
   "metadata": {},
   "source": [
    "# Init (same as task 1)"
   ]
  },
  {
   "cell_type": "code",
   "execution_count": 5,
   "metadata": {},
   "outputs": [],
   "source": [
    "df = pd.read_csv(\"final_data.csv\")"
   ]
  },
  {
   "cell_type": "code",
   "execution_count": 6,
   "metadata": {},
   "outputs": [
    {
     "name": "stdout",
     "output_type": "stream",
     "text": [
      "Connected!\n"
     ]
    }
   ],
   "source": [
    "try:\n",
    "    # connect to the database\n",
    "    connection = psycopg2.connect(\n",
    "    host=\"localhost\",\n",
    "    port=\"5432\",\n",
    "    dbname=\"taxi_trajectory\",\n",
    "    user=\"postgres\",\n",
    "    password=\"123456\"\n",
    "    )\n",
    "    cursor = connection.cursor()\n",
    "    print(\"Connected!\")\n",
    "except print(0):\n",
    "    print(\"Connect error!\")"
   ]
  },
  {
   "cell_type": "code",
   "execution_count": 10,
   "metadata": {},
   "outputs": [
    {
     "name": "stdout",
     "output_type": "stream",
     "text": [
      "PostgreSQL connection is closed\n"
     ]
    }
   ],
   "source": [
    "# close connection\n",
    "if connection:\n",
    "    cursor.close()\n",
    "    connection.close()\n",
    "    print(\"PostgreSQL connection is closed\")"
   ]
  },
  {
   "cell_type": "code",
   "execution_count": null,
   "metadata": {},
   "outputs": [],
   "source": [
    "query = \"SELECT trip_id, timestamp, geom FROM taxi_trips\"\n",
    "cursor.execute(query)\n",
    "rows = cursor.fetchall()"
   ]
  },
  {
   "cell_type": "code",
   "execution_count": 7,
   "metadata": {},
   "outputs": [],
   "source": [
    "select_start_end_points_query = \"SELECT trip_id, timestamp, start_long, start_lat, end_long, end_lat, geom FROM taxi_trips\"\n",
    "cursor.execute(select_start_end_points_query)\n",
    "rows = cursor.fetchall()"
   ]
  },
  {
   "cell_type": "markdown",
   "metadata": {},
   "source": [
    "# Create indecies (R-tree) (KD-tree, but failed in result)"
   ]
  },
  {
   "cell_type": "code",
   "execution_count": 8,
   "metadata": {},
   "outputs": [
    {
     "name": "stdout",
     "output_type": "stream",
     "text": [
      "Execution time: 0:01:42.959127\n"
     ]
    }
   ],
   "source": [
    "# R-tree\n",
    "p = rtree.index.Property()\n",
    "p.dimension = 3  # Three dimensions: x, y, and timestamp\n",
    "myrtree = rtree.index.Index(properties=p)\n",
    "t1 = datetime.datetime.now()\n",
    "for row in rows:\n",
    "    trip_id, timestamp, start_long, start_lat, end_long, end_lat, geom_wkt = row\n",
    "    #geom = loads(geom_wkt)\n",
    "    myrtree.insert(int(trip_id), (start_long, start_lat, timestamp, start_long, start_lat, timestamp))\n",
    "t2 = datetime.datetime.now()\n",
    "print(\"Execution time:\", t2 - t1)\n",
    "rtree_creation_time = t2 - t1"
   ]
  },
  {
   "cell_type": "code",
   "execution_count": 218,
   "metadata": {},
   "outputs": [
    {
     "name": "stdout",
     "output_type": "stream",
     "text": [
      "Execution time: 0:00:00.964841\n"
     ]
    }
   ],
   "source": [
    "# KD-tree  - create points\n",
    "# trip_id, timestamp, start_long, start_lat, end_long, end_lat, geom\n",
    "t1 = datetime.datetime.now()\n",
    "points = []\n",
    "for row in rows:\n",
    "    trip_id, timestamp, start_long, start_lat, end_long, end_lat, geom_wkt = row\n",
    "    #geom = loads(geom_wkt)\n",
    "    #if start_timestamp <= timestamp <= end_timestamp:\n",
    "    #points.append((start_long, start_lat, timestamp, trip_id)) # 3D\n",
    "    points.append((start_long, start_lat, trip_id)) # 2D\n",
    "\n",
    "points_array = np.array(points)\n",
    "t2 = datetime.datetime.now()\n",
    "print(\"Execution time:\", t2 - t1)"
   ]
  },
  {
   "cell_type": "code",
   "execution_count": 213,
   "metadata": {},
   "outputs": [
    {
     "data": {
      "text/plain": [
       "array([[-8.624556, 41.183811],\n",
       "       [-8.685801, 41.164695],\n",
       "       [-8.606457, 41.144607],\n",
       "       ...,\n",
       "       [-8.611119, 41.149467],\n",
       "       [-8.628327, 41.157441],\n",
       "       [-8.630478, 41.154471]])"
      ]
     },
     "execution_count": 213,
     "metadata": {},
     "output_type": "execute_result"
    }
   ],
   "source": [
    "points_array[:, :2]"
   ]
  },
  {
   "cell_type": "code",
   "execution_count": 248,
   "metadata": {},
   "outputs": [],
   "source": [
    "# just add the start longitude, start latitude for this query. I will filter the timestamp later\n",
    "# I'm trying to avoid the curve of dimensionality. \n",
    "# The distance will become larger if there're a lot of dimensions added.\n",
    "# Although my dimensions are not too much\n",
    "#mykdtree = KDTree(points_array[:, :3]) # 3D\n",
    "mykdtree = cKDTree(points_array[:, :2]) # 2D"
   ]
  },
  {
   "cell_type": "markdown",
   "metadata": {},
   "source": [
    "# Query: KNN - Find k nearest neighbours (start data points / trip_ids) of a given point (x_search, y_search) for a given time range (start_timestamp, end_timestamp)"
   ]
  },
  {
   "cell_type": "markdown",
   "metadata": {},
   "source": [
    "Explain my query: Given a point with {x_search, y_search}, a time range from {start_timestamp} to {end_timestamp}, find k-nearest neighbors, then return their {trip_ids}"
   ]
  },
  {
   "cell_type": "markdown",
   "metadata": {},
   "source": [
    "## Set up"
   ]
  },
  {
   "cell_type": "code",
   "execution_count": 9,
   "metadata": {},
   "outputs": [
    {
     "name": "stdout",
     "output_type": "stream",
     "text": [
      "start timestamp:  1380549600          datetime: 2013-10-01 00:00:00\n",
      "end timestamp:  1380636000            datetime: 2013-10-02 00:00:00\n",
      "Searching area:  -8.6424799 41.1607172 -8.6424799 41.1607172\n",
      "Searching area:  -8.6424799 , 41.1607172 , -8.6424799 , 41.1607172\n"
     ]
    },
    {
     "data": {
      "text/html": [
       "<div style=\"width:100%;\"><div style=\"position:relative;width:100%;height:0;padding-bottom:60%;\"><span style=\"color:#565656\">Make this Notebook Trusted to load map: File -> Trust Notebook</span><iframe srcdoc=\"&lt;!DOCTYPE html&gt;\n",
       "&lt;html&gt;\n",
       "&lt;head&gt;\n",
       "    \n",
       "    &lt;meta http-equiv=&quot;content-type&quot; content=&quot;text/html; charset=UTF-8&quot; /&gt;\n",
       "    \n",
       "        &lt;script&gt;\n",
       "            L_NO_TOUCH = false;\n",
       "            L_DISABLE_3D = false;\n",
       "        &lt;/script&gt;\n",
       "    \n",
       "    &lt;style&gt;html, body {width: 100%;height: 100%;margin: 0;padding: 0;}&lt;/style&gt;\n",
       "    &lt;style&gt;#map {position:absolute;top:0;bottom:0;right:0;left:0;}&lt;/style&gt;\n",
       "    &lt;script src=&quot;https://cdn.jsdelivr.net/npm/leaflet@1.9.3/dist/leaflet.js&quot;&gt;&lt;/script&gt;\n",
       "    &lt;script src=&quot;https://code.jquery.com/jquery-1.12.4.min.js&quot;&gt;&lt;/script&gt;\n",
       "    &lt;script src=&quot;https://cdn.jsdelivr.net/npm/bootstrap@5.2.2/dist/js/bootstrap.bundle.min.js&quot;&gt;&lt;/script&gt;\n",
       "    &lt;script src=&quot;https://cdnjs.cloudflare.com/ajax/libs/Leaflet.awesome-markers/2.0.2/leaflet.awesome-markers.js&quot;&gt;&lt;/script&gt;\n",
       "    &lt;link rel=&quot;stylesheet&quot; href=&quot;https://cdn.jsdelivr.net/npm/leaflet@1.9.3/dist/leaflet.css&quot;/&gt;\n",
       "    &lt;link rel=&quot;stylesheet&quot; href=&quot;https://cdn.jsdelivr.net/npm/bootstrap@5.2.2/dist/css/bootstrap.min.css&quot;/&gt;\n",
       "    &lt;link rel=&quot;stylesheet&quot; href=&quot;https://netdna.bootstrapcdn.com/bootstrap/3.0.0/css/bootstrap.min.css&quot;/&gt;\n",
       "    &lt;link rel=&quot;stylesheet&quot; href=&quot;https://cdn.jsdelivr.net/npm/@fortawesome/fontawesome-free@6.2.0/css/all.min.css&quot;/&gt;\n",
       "    &lt;link rel=&quot;stylesheet&quot; href=&quot;https://cdnjs.cloudflare.com/ajax/libs/Leaflet.awesome-markers/2.0.2/leaflet.awesome-markers.css&quot;/&gt;\n",
       "    &lt;link rel=&quot;stylesheet&quot; href=&quot;https://cdn.jsdelivr.net/gh/python-visualization/folium/folium/templates/leaflet.awesome.rotate.min.css&quot;/&gt;\n",
       "    \n",
       "            &lt;meta name=&quot;viewport&quot; content=&quot;width=device-width,\n",
       "                initial-scale=1.0, maximum-scale=1.0, user-scalable=no&quot; /&gt;\n",
       "            &lt;style&gt;\n",
       "                #map_2ed260fe8f52054d3f17af2e457d5e08 {\n",
       "                    position: relative;\n",
       "                    width: 100.0%;\n",
       "                    height: 100.0%;\n",
       "                    left: 0.0%;\n",
       "                    top: 0.0%;\n",
       "                }\n",
       "                .leaflet-container { font-size: 1rem; }\n",
       "            &lt;/style&gt;\n",
       "        \n",
       "&lt;/head&gt;\n",
       "&lt;body&gt;\n",
       "    \n",
       "    \n",
       "            &lt;div class=&quot;folium-map&quot; id=&quot;map_2ed260fe8f52054d3f17af2e457d5e08&quot; &gt;&lt;/div&gt;\n",
       "        \n",
       "&lt;/body&gt;\n",
       "&lt;script&gt;\n",
       "    \n",
       "    \n",
       "            var map_2ed260fe8f52054d3f17af2e457d5e08 = L.map(\n",
       "                &quot;map_2ed260fe8f52054d3f17af2e457d5e08&quot;,\n",
       "                {\n",
       "                    center: [41.1607172, -8.6424799],\n",
       "                    crs: L.CRS.EPSG3857,\n",
       "                    zoom: 15,\n",
       "                    zoomControl: true,\n",
       "                    preferCanvas: false,\n",
       "                }\n",
       "            );\n",
       "\n",
       "            \n",
       "\n",
       "        \n",
       "    \n",
       "            var tile_layer_eb83563c9a0b014f82a7a6e8a7dff7bc = L.tileLayer(\n",
       "                &quot;https://{s}.tile.openstreetmap.org/{z}/{x}/{y}.png&quot;,\n",
       "                {&quot;attribution&quot;: &quot;Data by \\u0026copy; \\u003ca target=\\&quot;_blank\\&quot; href=\\&quot;http://openstreetmap.org\\&quot;\\u003eOpenStreetMap\\u003c/a\\u003e, under \\u003ca target=\\&quot;_blank\\&quot; href=\\&quot;http://www.openstreetmap.org/copyright\\&quot;\\u003eODbL\\u003c/a\\u003e.&quot;, &quot;detectRetina&quot;: false, &quot;maxNativeZoom&quot;: 18, &quot;maxZoom&quot;: 18, &quot;minZoom&quot;: 0, &quot;noWrap&quot;: false, &quot;opacity&quot;: 1, &quot;subdomains&quot;: &quot;abc&quot;, &quot;tms&quot;: false}\n",
       "            ).addTo(map_2ed260fe8f52054d3f17af2e457d5e08);\n",
       "        \n",
       "    \n",
       "            var rectangle_4c383f09739d92d21209e959e678a413 = L.rectangle(\n",
       "                [[41.1607172, -8.6424799], [41.1607172, -8.6424799]],\n",
       "                {&quot;bubblingMouseEvents&quot;: true, &quot;color&quot;: &quot;red&quot;, &quot;dashArray&quot;: null, &quot;dashOffset&quot;: null, &quot;fill&quot;: false, &quot;fillColor&quot;: &quot;red&quot;, &quot;fillOpacity&quot;: 0.1, &quot;fillRule&quot;: &quot;evenodd&quot;, &quot;lineCap&quot;: &quot;round&quot;, &quot;lineJoin&quot;: &quot;round&quot;, &quot;noClip&quot;: false, &quot;opacity&quot;: 1.0, &quot;smoothFactor&quot;: 1.0, &quot;stroke&quot;: true, &quot;weight&quot;: 3}\n",
       "            ).addTo(map_2ed260fe8f52054d3f17af2e457d5e08);\n",
       "        \n",
       "&lt;/script&gt;\n",
       "&lt;/html&gt;\" style=\"position:absolute;width:100%;height:100%;left:0;top:0;border:none !important;\" allowfullscreen webkitallowfullscreen mozallowfullscreen></iframe></div></div>"
      ],
      "text/plain": [
       "<folium.folium.Map at 0x22ac7ed2650>"
      ]
     },
     "execution_count": 9,
     "metadata": {},
     "output_type": "execute_result"
    }
   ],
   "source": [
    "# max timestamp: 1393230201    min timestamp: 1372636853\n",
    "# 2013-07-01 10:00:53            2014-02-24 18:23:21\n",
    "# 41.1607172,-8.6424799  41.1636687,-8.627035\n",
    "start_datetime = datetime.datetime(2013, 10, 1, 0, 0, 0)\n",
    "end_datetime = datetime.datetime(2013, 10, 2, 0, 0, 0)\n",
    "start_timestamp = int(start_datetime.timestamp())\n",
    "end_timestamp = int(end_datetime.timestamp())\n",
    "# search point\n",
    "minx_search, miny_search, maxx_search, maxy_search = -8.6424799, 41.1607172, -8.6424799, 41.1607172\n",
    "print(\"start timestamp: \", start_timestamp, \"         datetime:\", start_datetime)\n",
    "print(\"end timestamp: \", end_timestamp, \"           datetime:\", end_datetime)\n",
    "print(\"Searching area: \", minx_search, miny_search, maxx_search, maxy_search)\n",
    "print(\"Searching area: \", minx_search, \",\", miny_search,\",\", maxx_search,\",\", maxy_search)\n",
    "create_map_with_bb(minx_search, miny_search, maxx_search, maxy_search)"
   ]
  },
  {
   "cell_type": "markdown",
   "metadata": {},
   "source": [
    "## DB query"
   ]
  },
  {
   "cell_type": "code",
   "execution_count": 29,
   "metadata": {},
   "outputs": [],
   "source": [
    "k = 10\n",
    "knn_db_query = \"\"\"SELECT trip_id\n",
    "FROM taxi_trips\n",
    "WHERE timestamp BETWEEN {} AND {}\n",
    "ORDER BY ST_DistanceSphere(ST_SetSRID(ST_MakePoint(start_long, start_lat), 4326), ST_SetSRID(ST_MakePoint({}, {}), 4326))\n",
    "--ORDER BY ST_SetSRID(ST_MakePoint(start_long, start_lat), 4326) <-> ST_SetSRID(ST_MakePoint(-8.6424799, 41.1607172), 4326)\n",
    "LIMIT {};\"\"\".format(start_timestamp, end_timestamp, minx_search, miny_search, k)"
   ]
  },
  {
   "cell_type": "code",
   "execution_count": 30,
   "metadata": {},
   "outputs": [
    {
     "name": "stdout",
     "output_type": "stream",
     "text": [
      "Execution time:  0:00:00.473675\n",
      "10\n"
     ]
    }
   ],
   "source": [
    "t1 = datetime.datetime.now()\n",
    "cursor.execute(knn_db_query)\n",
    "t2 = datetime.datetime.now()\n",
    "print(\"Execution time: \", t2 - t1)\n",
    "db_query_time = t2 - t1\n",
    "query2_result_db = cursor.fetchall()\n",
    "print(len(query2_result_db))"
   ]
  },
  {
   "cell_type": "code",
   "execution_count": 105,
   "metadata": {},
   "outputs": [
    {
     "data": {
      "text/plain": [
       "[(1380568647620000577,),\n",
       " (1380622284620000436,),\n",
       " (1380626783620000542,),\n",
       " (1380581343620000518,),\n",
       " (1380616768620000167,),\n",
       " (1380606752620000903,),\n",
       " (1380616036620000669,),\n",
       " (1380567732620000065,),\n",
       " (1380615838620000324,),\n",
       " (1380586075620000431,)]"
      ]
     },
     "execution_count": 105,
     "metadata": {},
     "output_type": "execute_result"
    }
   ],
   "source": [
    "query2_result_db"
   ]
  },
  {
   "cell_type": "markdown",
   "metadata": {},
   "source": [
    "## R-tree query"
   ]
  },
  {
   "cell_type": "code",
   "execution_count": 14,
   "metadata": {},
   "outputs": [
    {
     "name": "stdout",
     "output_type": "stream",
     "text": [
      "Execution time 0:00:00.004986\n"
     ]
    }
   ],
   "source": [
    "# If I choose 2D R-tree: (start_long, start_lat, start_long, start_lat) // start points\n",
    "# The key thing here is how to find the suitable num_results (which is our K) for each case?\n",
    "# We wanna find the 10 (k = 10) nearest neightbors within a time range, however, my r-tree only stores start coordinates without timestamp \n",
    "# We have to find more than K neighbors, then filter it later because maybe some returned trip_ids are not in that range\n",
    "\n",
    "# But if I choose 3D R-tree: (start_long, start_lat, timestamp, start_long, start_lat, timestamp) // start points with the start timestamp\n",
    "# The problem is... (I forget it @@)\n",
    "t1 = datetime.datetime.now()\n",
    "retured_id_rtree = myrtree.nearest((minx_search, miny_search, start_timestamp, maxx_search, maxy_search, end_timestamp), num_results=10)\n",
    "t2 = datetime.datetime.now()\n",
    "rtree_query_time = t2 - t1\n",
    "retured_id_rtree = list(retured_id_rtree)\n",
    "print(\"Execution time\", rtree_query_time)"
   ]
  },
  {
   "cell_type": "code",
   "execution_count": 34,
   "metadata": {},
   "outputs": [
    {
     "data": {
      "text/plain": [
       "10"
      ]
     },
     "execution_count": 34,
     "metadata": {},
     "output_type": "execute_result"
    }
   ],
   "source": [
    "len(retured_id_rtree)"
   ]
  },
  {
   "cell_type": "code",
   "execution_count": 15,
   "metadata": {},
   "outputs": [
    {
     "name": "stdout",
     "output_type": "stream",
     "text": [
      "Execution time: 0:00:00.000997\n"
     ]
    },
    {
     "data": {
      "text/plain": [
       "10"
      ]
     },
     "execution_count": 15,
     "metadata": {},
     "output_type": "execute_result"
    }
   ],
   "source": [
    "filtered_trip_ids_rtree = set()\n",
    "trip_id_idx_list = []\n",
    "\n",
    "for trip_id in retured_id_rtree:\n",
    "   trip_id_idx_list.append(df[df['trip_id'] == trip_id].index[0])\n",
    "\n",
    "t1 = datetime.datetime.now()\n",
    "for idx in trip_id_idx_list:\n",
    "    current_time_at_point = df.timestamp[idx]\n",
    "    if ((current_time_at_point >= start_timestamp) & (current_time_at_point <= end_timestamp)):\n",
    "        filtered_trip_ids_rtree.add(df.trip_id[idx])\n",
    "       \n",
    "t2 = datetime.datetime.now()\n",
    "print(\"Execution time:\", t2 - t1)\n",
    "rtree_query_time += (t2 - t1)\n",
    "len(filtered_trip_ids_rtree)\n"
   ]
  },
  {
   "cell_type": "code",
   "execution_count": 13,
   "metadata": {},
   "outputs": [
    {
     "data": {
      "text/plain": [
       "{1380568647620000577,\n",
       " 1380581343620000518,\n",
       " 1380586075620000431,\n",
       " 1380606752620000903,\n",
       " 1380615838620000324,\n",
       " 1380616036620000669,\n",
       " 1380616768620000167,\n",
       " 1380622284620000436,\n",
       " 1380626783620000542,\n",
       " 1380635800620000359}"
      ]
     },
     "execution_count": 13,
     "metadata": {},
     "output_type": "execute_result"
    }
   ],
   "source": [
    "filtered_trip_ids_rtree"
   ]
  },
  {
   "cell_type": "code",
   "execution_count": null,
   "metadata": {},
   "outputs": [],
   "source": [
    "\"\"\"\n",
    "# Analyse the result.\n",
    "\n",
    "Result from DB.\n",
    "[(1380568647620000577,),\n",
    " (1380622284620000436,),\n",
    " (1380626783620000542,),\n",
    " (1380581343620000518,),\n",
    " (1380616768620000167,),\n",
    " (1380606752620000903,),\n",
    " (1380616036620000669,),\n",
    " (1380567732620000065,),\n",
    " (1380615838620000324,),\n",
    " (1380586075620000431,)]\n",
    " \n",
    " # Result from 2D R-tree (long, lat)  \n",
    " # -> it's good, but takes a lot of time because we dont know how to select \"k\" as mentioned above.\n",
    " {1380567732620000065,\n",
    " 1380568647620000577,\n",
    " 1380581343620000518,\n",
    " 1380586075620000431,\n",
    " 1380606752620000903,\n",
    " 1380615838620000324,\n",
    " 1380616036620000669,\n",
    " 1380616768620000167,\n",
    " 1380622284620000436,\n",
    " 1380626783620000542,\n",
    " 1380635800620000359} # this one is 11th nearest neighbor\n",
    " \n",
    " # 3D R-tree (long, lat, timestamp) \n",
    " # --> better time query, however, the higher dimension we have, the further distance we will get.\n",
    " # this may be affected by \"The curve of dimensionality\".\n",
    " # 1380567732620000065 <---- I dont know why this id wasn't detected in my 3D R-tree. \n",
    " # Maybe the distance is affected by the dimensions?\n",
    " # The order is different from the DB (linear scan) \n",
    " # because of the structure of R-tree and how it search the K-NN.\n",
    " \n",
    "{1380568647620000577,\n",
    " 1380581343620000518,\n",
    " 1380586075620000431,\n",
    " 1380606752620000903,\n",
    " 1380615838620000324,\n",
    " 1380616036620000669,\n",
    " 1380616768620000167,\n",
    " 1380622284620000436,\n",
    " 1380626783620000542,\n",
    " 1380635800620000359}  \n",
    "\"\"\""
   ]
  },
  {
   "cell_type": "markdown",
   "metadata": {},
   "source": [
    "## KD-tree Query (scipy.spatial) (wrong result, returned trip_ids don't exist)"
   ]
  },
  {
   "cell_type": "code",
   "execution_count": 135,
   "metadata": {},
   "outputs": [],
   "source": [
    "# 3D\n",
    "# points.append((start_long, start_lat, timestamp, trip_id)) # 3D\n",
    "target_point = [minx_search, miny_search, start_timestamp]\n",
    "\n",
    "# Perform the K-nearest neighbor search using the KD-tree\n",
    "k = 10  # Number of nearest neighbors to retrieve\n",
    "kdtree_distances, kdtree_indices = mykdtree.query(target_point, k=k)\n"
   ]
  },
  {
   "cell_type": "code",
   "execution_count": null,
   "metadata": {},
   "outputs": [],
   "source": [
    "# 3D\n",
    "# Retrieve the nearest neighbors within the desired timestamp range\n",
    "knn_trip_ids = set()\n",
    "for index in kdtree_indices:\n",
    "    trip_id, trip_timestamp = points_array[index, 3], points_array[index, 2]\n",
    "    if start_timestamp <= trip_timestamp <= end_timestamp:\n",
    "        knn_trip_ids.add(int(trip_id))"
   ]
  },
  {
   "cell_type": "code",
   "execution_count": 150,
   "metadata": {},
   "outputs": [
    {
     "data": {
      "text/plain": [
       "array([487107, 854790, 875239, 443745, 811574, 793153, 178130, 886486,\n",
       "       785830, 961003], dtype=int64)"
      ]
     },
     "execution_count": 150,
     "metadata": {},
     "output_type": "execute_result"
    }
   ],
   "source": [
    "kdtree_indices"
   ]
  },
  {
   "cell_type": "code",
   "execution_count": 249,
   "metadata": {},
   "outputs": [],
   "source": [
    "# 2D\n",
    "# points.append((start_long, start_lat, trip_id)) # 2D\n",
    "target_point = [[minx_search, miny_search]]\n",
    "\n",
    "# Perform the K-nearest neighbor search using the KD-tree\n",
    "k = 20  # Number of nearest neighbors to retrieve\n",
    "kdtree_distances, kdtree_indices = mykdtree.query(target_point, k=k)"
   ]
  },
  {
   "cell_type": "code",
   "execution_count": 250,
   "metadata": {},
   "outputs": [
    {
     "data": {
      "text/plain": [
       "[array([487107, 854790, 875239, 443745, 811574, 793153, 178130, 886486,\n",
       "        785830, 961003, 581576, 253374,  72506, 310817, 844472, 930792,\n",
       "        779346, 925547, 114007, 663911], dtype=int64)]"
      ]
     },
     "execution_count": 250,
     "metadata": {},
     "output_type": "execute_result"
    }
   ],
   "source": [
    "list(kdtree_indices)"
   ]
  },
  {
   "cell_type": "code",
   "execution_count": 251,
   "metadata": {},
   "outputs": [
    {
     "data": {
      "text/plain": [
       "1388437071620001024"
      ]
     },
     "execution_count": 251,
     "metadata": {},
     "output_type": "execute_result"
    }
   ],
   "source": [
    "int(points_array[779346][2])"
   ]
  },
  {
   "cell_type": "code",
   "execution_count": 244,
   "metadata": {},
   "outputs": [
    {
     "data": {
      "text/html": [
       "<div>\n",
       "<style scoped>\n",
       "    .dataframe tbody tr th:only-of-type {\n",
       "        vertical-align: middle;\n",
       "    }\n",
       "\n",
       "    .dataframe tbody tr th {\n",
       "        vertical-align: top;\n",
       "    }\n",
       "\n",
       "    .dataframe thead th {\n",
       "        text-align: right;\n",
       "    }\n",
       "</style>\n",
       "<table border=\"1\" class=\"dataframe\">\n",
       "  <thead>\n",
       "    <tr style=\"text-align: right;\">\n",
       "      <th></th>\n",
       "      <th>trip_id</th>\n",
       "      <th>call_type</th>\n",
       "      <th>origin_call</th>\n",
       "      <th>origin_stand</th>\n",
       "      <th>taxi_id</th>\n",
       "      <th>timestamp</th>\n",
       "      <th>day_type</th>\n",
       "      <th>polyline</th>\n",
       "      <th>distance</th>\n",
       "      <th>start_lat</th>\n",
       "      <th>start_long</th>\n",
       "      <th>end_lat</th>\n",
       "      <th>end_long</th>\n",
       "      <th>geom</th>\n",
       "      <th>total_time</th>\n",
       "    </tr>\n",
       "  </thead>\n",
       "  <tbody>\n",
       "  </tbody>\n",
       "</table>\n",
       "</div>"
      ],
      "text/plain": [
       "Empty DataFrame\n",
       "Columns: [trip_id, call_type, origin_call, origin_stand, taxi_id, timestamp, day_type, polyline, distance, start_lat, start_long, end_lat, end_long, geom, total_time]\n",
       "Index: []"
      ]
     },
     "execution_count": 244,
     "metadata": {},
     "output_type": "execute_result"
    }
   ],
   "source": [
    "# 1380626783620000542\n",
    "# 1374241589620000256\n",
    "# what the... ? This id is not in my data .-.\n",
    "df[df['trip_id'] == 1374241589620000256]"
   ]
  },
  {
   "cell_type": "code",
   "execution_count": 252,
   "metadata": {},
   "outputs": [
    {
     "name": "stdout",
     "output_type": "stream",
     "text": [
      "Trip ID: 1374241589620000256, Distance: 4.283514912134659e-05\n",
      "Trip ID: 1390083240620001024, Distance: 0.0002972403909281925\n",
      "Trip ID: 1390573348620000512, Distance: 0.00032033302982719633\n",
      "Trip ID: 1373358554620000256, Distance: 0.0003897307403837919\n",
      "Trip ID: 1389101014620000512, Distance: 0.0004183668844461827\n",
      "Trip ID: 1388672785620000000, Distance: 0.00042313904334438304\n",
      "Trip ID: 1380103592620000256, Distance: 0.000436194967874265\n",
      "Trip ID: 1390836332620000512, Distance: 0.00043750114285435283\n",
      "Trip ID: 1388547280620000256, Distance: 0.000442992155688562\n",
      "Trip ID: 1392414781620000000, Distance: 0.00044401289395435887\n",
      "Trip ID: 1376272542620000512, Distance: 0.0004496906158696986\n",
      "Trip ID: 1381519508620000000, Distance: 0.00045132876044269956\n",
      "Trip ID: 1378358136620000000, Distance: 0.0004546289146105715\n",
      "Trip ID: 1382608763620000768, Distance: 0.0004570002735245898\n",
      "Trip ID: 1389866240620000000, Distance: 0.0004615095340296241\n",
      "Trip ID: 1391793904620000512, Distance: 0.0004618292433354096\n",
      "Trip ID: 1388437071620001024, Distance: 0.00046234148634781056\n",
      "Trip ID: 1391685328620000512, Distance: 0.00046301841215957464\n",
      "Trip ID: 1379116715620000000, Distance: 0.00046898043669277767\n",
      "Trip ID: 1386052240620000512, Distance: 0.0004692854674931026\n"
     ]
    }
   ],
   "source": [
    "# Retrieve trip information for the nearest neighbors\n",
    "for distance, index in zip(kdtree_distances[0], kdtree_indices[0]):\n",
    "    trip_id = int(points_array[index][2])  \n",
    "    print(f\"Trip ID: {trip_id}, Distance: {distance}\")\n"
   ]
  },
  {
   "cell_type": "markdown",
   "metadata": {},
   "source": [
    "## Linear scan"
   ]
  },
  {
   "cell_type": "code",
   "execution_count": 38,
   "metadata": {},
   "outputs": [
    {
     "name": "stdout",
     "output_type": "stream",
     "text": [
      "Execution time 0:00:00.427306\n"
     ]
    }
   ],
   "source": [
    "k = 11\n",
    "nearest_neighbors_linear_scan = []\n",
    "target_point = (minx_search, miny_search)\n",
    "t1 = datetime.datetime.now()\n",
    "for row in rows:\n",
    "    trip_id, timestamp, start_long, start_lat, end_long, end_lat, geom_wkt = row\n",
    "    point = (start_long, start_lat)\n",
    "    \n",
    "    # Check if the timestamp is within the specified range\n",
    "    if start_timestamp <= timestamp <= end_timestamp:\n",
    "        distance = myutil.haversine_distance(target_point, point)\n",
    "        #distance = great_circle(target_point, point)   # alternative distance calculation function\n",
    "        \n",
    "        nearest_neighbors_linear_scan.append((trip_id, point, distance))\n",
    "\n",
    "# Sort the nearest neighbors based on the distance\n",
    "nearest_neighbors_linear_scan.sort(key=lambda x: x[2])\n",
    "\n",
    "# Retrieve the top K nearest neighbors\n",
    "k_nearest_neighbors_linear_scan = nearest_neighbors_linear_scan[:k]\n",
    "t2 = datetime.datetime.now()\n",
    "print(\"Execution time\", t2 - t1)\n",
    "linear_scan_query_time = t2 - t1"
   ]
  },
  {
   "cell_type": "code",
   "execution_count": 39,
   "metadata": {},
   "outputs": [
    {
     "data": {
      "text/plain": [
       "[(1380568647620000577, (-8.642358, 41.160177), 0.060912819730363846),\n",
       " (1380622284620000436, (-8.643087, 41.160276), 0.08312396121171221),\n",
       " (1380626783620000542, (-8.641458, 41.160132), 0.13057762039044904),\n",
       " (1380581343620000518, (-8.641485, 41.159907), 0.14202660374398585),\n",
       " (1380616768620000167, (-8.643969, 41.160393), 0.169372800905288),\n",
       " (1380606752620000903, (-8.640954, 41.16096), 0.17175921173761502),\n",
       " (1380616036620000669, (-8.641278, 41.159727), 0.17236752959382678),\n",
       " (1380635800620000359, (-8.641026, 41.159727), 0.19489883293014615),\n",
       " (1380615838620000324, (-8.64081, 41.160096), 0.19784425111726184),\n",
       " (1380586075620000431, (-8.640819, 41.160033), 0.19941311087998978),\n",
       " (1380567732620000065, (-8.640738, 41.161158), 0.19966046964626352)]"
      ]
     },
     "execution_count": 39,
     "metadata": {},
     "output_type": "execute_result"
    }
   ],
   "source": [
    "k_nearest_neighbors_linear_scan"
   ]
  },
  {
   "cell_type": "markdown",
   "metadata": {},
   "source": [
    "## Quad-Tree query (fail, my computer crashed)"
   ]
  },
  {
   "cell_type": "code",
   "execution_count": 256,
   "metadata": {},
   "outputs": [],
   "source": [
    "# This library doesnt support KNN search\n",
    "#mypqtree = pyqtree.Index(bbox=(-9.33309, 38.564424, -6.273549, 42.051402))"
   ]
  },
  {
   "cell_type": "code",
   "execution_count": 55,
   "metadata": {},
   "outputs": [
    {
     "name": "stdout",
     "output_type": "stream",
     "text": [
      "Central Point: (-7.803319500000001, 40.307913)\n",
      "Width: 3.0595410000000003\n",
      "Height: 3.4869780000000006\n"
     ]
    }
   ],
   "source": [
    "minx_entire = -9.33309\n",
    "miny_entire = 38.564424\n",
    "maxx_entire = -6.273549\n",
    "maxy_entire = 42.051402\n",
    "\n",
    "# Calculate central point\n",
    "center_lon = (minx_entire + maxx_entire) / 2\n",
    "center_lat = (miny_entire + maxy_entire) / 2\n",
    "central_point = (center_lon, center_lat)\n",
    "print(\"Central Point:\", central_point)\n",
    "\n",
    "# Calculate width\n",
    "width = maxx_entire - minx_entire\n",
    "print(\"Width:\", width)\n",
    "\n",
    "# Calculate height\n",
    "height = maxy_entire - miny_entire\n",
    "print(\"Height:\", height)\n"
   ]
  },
  {
   "cell_type": "code",
   "execution_count": 56,
   "metadata": {},
   "outputs": [],
   "source": [
    "mypqtree = quads.QuadTree(\n",
    "    (-7.803319500000001, 40.307913),  # central point\n",
    "    3.0595410000000003, # width\n",
    "    3.4869780000000006 # height\n",
    ")"
   ]
  },
  {
   "cell_type": "code",
   "execution_count": 57,
   "metadata": {},
   "outputs": [
    {
     "ename": "",
     "evalue": "",
     "output_type": "error",
     "traceback": [
      "\u001b[1;31mCanceled future for execute_request message before replies were done"
     ]
    },
    {
     "ename": "",
     "evalue": "",
     "output_type": "error",
     "traceback": [
      "\u001b[1;31mThe Kernel crashed while executing code in the the current cell or a previous cell. Please review the code in the cell(s) to identify a possible cause of the failure. Click <a href='https://aka.ms/vscodeJupyterKernelCrash'>here</a> for more info. View Jupyter <a href='command:jupyter.viewOutput'>log</a> for further details."
     ]
    }
   ],
   "source": [
    "# My computer crashed when I tried to run this cell :( \n",
    "# So I can't apply this data structure\n",
    "t1 = datetime.datetime.now()\n",
    "for row in rows:\n",
    "    trip_id, timestamp, start_long, start_lat, end_long, end_lat, geom_wkt = row\n",
    "    geom = Point(start_long, start_lat)\n",
    "    mypqtree.insert(point=geom.bounds, data=trip_id)\n",
    "t2 = datetime.datetime.now()\n",
    "print(\"Execution time\", t2 - t1)"
   ]
  },
  {
   "cell_type": "markdown",
   "metadata": {},
   "source": [
    "## KD-tree Sklearn"
   ]
  },
  {
   "cell_type": "code",
   "execution_count": 7,
   "metadata": {},
   "outputs": [
    {
     "name": "stdout",
     "output_type": "stream",
     "text": [
      "Execution time 0:00:02.547452\n"
     ]
    }
   ],
   "source": [
    "points = []\n",
    "timestamps = []\n",
    "t1 = datetime.datetime.now()\n",
    "for row in rows:\n",
    "    trip_id, timestamp, start_long, start_lat, end_long, end_lat, geom_wkt = row\n",
    "    points.append((start_long, start_lat))\n",
    "    timestamps.append(timestamp)\n",
    "myknn_sklearn = NearestNeighbors(n_neighbors=3000, algorithm='kd_tree')\n",
    "myknn_sklearn.fit(points)\n",
    "t2 = datetime.datetime.now()\n",
    "print(\"Execution time\", t2 - t1)\n",
    "kdtree_sklearn_creation_time = t2 - t1"
   ]
  },
  {
   "cell_type": "code",
   "execution_count": 44,
   "metadata": {},
   "outputs": [
    {
     "name": "stdout",
     "output_type": "stream",
     "text": [
      "Execution time 0:00:00.006981\n"
     ]
    }
   ],
   "source": [
    "target_point = [[minx_search, miny_search]]\n",
    "\n",
    "t1 = datetime.datetime.now()\n",
    "kdtree_sklearn_distances, kdtree_sklearn_indices = myknn_sklearn.kneighbors(target_point)\n",
    "\n",
    "kdtree_sklearn_result = set()\n",
    "# Retrieve the nearest neighbors' information within the timestamp range\n",
    "for distance, index in zip(kdtree_sklearn_distances[0], kdtree_sklearn_indices[0]):\n",
    "    nearest_point = points[index]\n",
    "    trip_id = rows[index][0]  # Extract trip_id from the corresponding row\n",
    "    timestamp = timestamps[index]  # Extract timestamp from the corresponding row\n",
    "\n",
    "    if start_timestamp <= timestamp <= end_timestamp:\n",
    "        kdtree_sklearn_result.add(trip_id)\n",
    "        #print(f\"Trip ID: {trip_id}, Timestamp: {timestamp}, Nearest Point: {nearest_point}, Distance: {distance}\")\n",
    "\n",
    "\n",
    "t2 = datetime.datetime.now()\n",
    "print(\"Execution time\", t2 - t1)\n",
    "kdtree_sklearn_query_time = t2 - t1"
   ]
  },
  {
   "cell_type": "code",
   "execution_count": 45,
   "metadata": {},
   "outputs": [
    {
     "data": {
      "text/plain": [
       "{1380567732620000065,\n",
       " 1380568647620000577,\n",
       " 1380581343620000518,\n",
       " 1380586075620000431,\n",
       " 1380606752620000903,\n",
       " 1380615838620000324,\n",
       " 1380616036620000669,\n",
       " 1380616768620000167,\n",
       " 1380622284620000436,\n",
       " 1380626783620000542,\n",
       " 1380635800620000359}"
      ]
     },
     "execution_count": 45,
     "metadata": {},
     "output_type": "execute_result"
    }
   ],
   "source": [
    "kdtree_sklearn_result"
   ]
  },
  {
   "cell_type": "markdown",
   "metadata": {},
   "source": [
    "## Ball-Tree Sklearn"
   ]
  },
  {
   "cell_type": "code",
   "execution_count": 8,
   "metadata": {},
   "outputs": [
    {
     "name": "stdout",
     "output_type": "stream",
     "text": [
      "Execution time 0:00:02.308258\n"
     ]
    }
   ],
   "source": [
    "# same as R-tree, to find K-NN in a time range is quite hard to determine the exact number of n_neighbors initially\n",
    "# In my experiment, if n_neighbors = 3000, the final returned trip_ids will be 11 nearest neighbors\n",
    "points = []\n",
    "timestamps = []\n",
    "t1 = datetime.datetime.now()\n",
    "for row in rows:\n",
    "    trip_id, timestamp, start_long, start_lat, end_long, end_lat, geom_wkt = row\n",
    "    points.append((start_long, start_lat))\n",
    "    timestamps.append(timestamp)\n",
    "myballtree_sklearn = NearestNeighbors(n_neighbors=3000, algorithm='ball_tree')\n",
    "myballtree_sklearn.fit(points)\n",
    "t2 = datetime.datetime.now()\n",
    "print(\"Execution time\", t2 - t1)\n",
    "balltree_sklearn_creation_time = t2 - t1"
   ]
  },
  {
   "cell_type": "code",
   "execution_count": 47,
   "metadata": {},
   "outputs": [
    {
     "name": "stdout",
     "output_type": "stream",
     "text": [
      "Execution time 0:00:00.005983\n"
     ]
    }
   ],
   "source": [
    "target_point = [[minx_search, miny_search]]\n",
    "\n",
    "t1 = datetime.datetime.now()\n",
    "balltree_sklearn_distances, balltree_sklearn_indices = myknn_sklearn.kneighbors(target_point)\n",
    "\n",
    "balltree_sklearn_result = set()\n",
    "# Retrieve the nearest neighbors' information within the timestamp range\n",
    "for distance, index in zip(balltree_sklearn_distances[0], balltree_sklearn_indices[0]):\n",
    "    nearest_point = points[index]\n",
    "    trip_id = rows[index][0]  # Extract trip_id from the corresponding row\n",
    "    timestamp = timestamps[index]  # Extract timestamp from the corresponding row\n",
    "\n",
    "    if start_timestamp <= timestamp <= end_timestamp:\n",
    "        balltree_sklearn_result.add(trip_id)\n",
    "        #print(f\"Trip ID: {trip_id}, Timestamp: {timestamp}, Nearest Point: {nearest_point}, Distance: {distance}\")\n",
    "\n",
    "\n",
    "t2 = datetime.datetime.now()\n",
    "print(\"Execution time\", t2 - t1)\n",
    "balltree_sklearn_query_time = t2 - t1"
   ]
  },
  {
   "cell_type": "code",
   "execution_count": 48,
   "metadata": {},
   "outputs": [
    {
     "data": {
      "text/plain": [
       "{1380567732620000065,\n",
       " 1380568647620000577,\n",
       " 1380581343620000518,\n",
       " 1380586075620000431,\n",
       " 1380606752620000903,\n",
       " 1380615838620000324,\n",
       " 1380616036620000669,\n",
       " 1380616768620000167,\n",
       " 1380622284620000436,\n",
       " 1380626783620000542,\n",
       " 1380635800620000359}"
      ]
     },
     "execution_count": 48,
     "metadata": {},
     "output_type": "execute_result"
    }
   ],
   "source": [
    "balltree_sklearn_result"
   ]
  },
  {
   "cell_type": "markdown",
   "metadata": {},
   "source": [
    "# Compare performance"
   ]
  },
  {
   "cell_type": "markdown",
   "metadata": {},
   "source": [
    "## Creation time"
   ]
  },
  {
   "cell_type": "code",
   "execution_count": 9,
   "metadata": {},
   "outputs": [
    {
     "data": {
      "image/png": "[encoded data removed]",
      "text/plain": [
       "<Figure size 640x480 with 1 Axes>"
      ]
     },
     "metadata": {},
     "output_type": "display_data"
    }
   ],
   "source": [
    "creation_time_all = {'R-tree': rtree_creation_time.total_seconds(), \n",
    "                     'Kd-tree': kdtree_sklearn_creation_time.total_seconds(), \n",
    "                     'Ball-tree': balltree_sklearn_creation_time.total_seconds()}\n",
    "\n",
    "plt.bar(creation_time_all.keys(), creation_time_all.values())\n",
    "plt.xlabel('Tree Type')\n",
    "plt.ylabel('Creation Time (in seconds)')\n",
    "plt.title('Comparison of Tree Creation Times')\n",
    "plt.show()"
   ]
  },
  {
   "cell_type": "markdown",
   "metadata": {},
   "source": [
    "## Query time"
   ]
  },
  {
   "cell_type": "code",
   "execution_count": 54,
   "metadata": {},
   "outputs": [
    {
     "data": {
      "image/png": "[encoded data removed]",
      "text/plain": [
       "<Figure size 640x480 with 1 Axes>"
      ]
     },
     "metadata": {},
     "output_type": "display_data"
    }
   ],
   "source": [
    "query_time_all = {'Linear scan from database': db_query_time.total_seconds(),\n",
    "                  'Linear scan': linear_scan_query_time.total_seconds(),\n",
    "                  'R-tree': rtree_query_time.total_seconds(), \n",
    "                  'Kd-tree (sklearn)': kdtree_sklearn_query_time.total_seconds(), \n",
    "                  'Ball-tree (sklearn)': balltree_sklearn_query_time.total_seconds()}\n",
    "\n",
    "plt.bar(query_time_all.keys(), query_time_all.values())\n",
    "\n",
    "plt.xlabel('Data Structure Type')\n",
    "plt.ylabel('Total Query Execution Time (in seconds)')\n",
    "plt.title('Comparison of Tree Query Execution Times in Task 2')\n",
    "plt.xticks(rotation=45)\n",
    "plt.show()"
   ]
  },
  {
   "cell_type": "code",
   "execution_count": null,
   "metadata": {},
   "outputs": [],
   "source": []
  }
 ],
 "metadata": {
  "kernelspec": {
   "display_name": "Python 3.10.11 ('venv': venv)",
   "language": "python",
   "name": "python3"
  },
  "language_info": {
   "codemirror_mode": {
    "name": "ipython",
    "version": 3
   },
   "file_extension": ".py",
   "mimetype": "text/x-python",
   "name": "python",
   "nbconvert_exporter": "python",
   "pygments_lexer": "ipython3",
   "version": "3.10.11"
  },
  "orig_nbformat": 4,
  "vscode": {
   "interpreter": {
    "hash": "a11e5bc30db5509b5b617a0ce2744ddc4b1c195b2de55c6d104fe07b02eb0d58"
   }
  }
 },
 "nbformat": 4,
 "nbformat_minor": 2
}
