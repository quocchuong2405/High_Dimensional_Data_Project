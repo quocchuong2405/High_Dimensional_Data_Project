{
 "cells": [
  {
   "cell_type": "code",
   "execution_count": 1,
   "metadata": {},
   "outputs": [
    {
     "name": "stderr",
     "output_type": "stream",
     "text": [
      "d:\\NewOne\\UQ\\INFS4205\\assignment\\taxi_trajectory\\venv\\lib\\site-packages\\geopandas\\_compat.py:123: UserWarning: The Shapely GEOS version (3.11.1-CAPI-1.17.1) is incompatible with the GEOS version PyGEOS was compiled with (3.10.4-CAPI-1.16.2). Conversions between both will be slow.\n",
      "  warnings.warn(\n",
      "C:\\Users\\Acer\\AppData\\Local\\Temp\\ipykernel_15228\\3525318489.py:8: UserWarning: Shapely 2.0 is installed, but because PyGEOS is also installed, GeoPandas will still use PyGEOS by default for now. To force to use and test Shapely 2.0, you have to set the environment variable USE_PYGEOS=0. You can do this before starting the Python process, or in your code before importing geopandas:\n",
      "\n",
      "import os\n",
      "os.environ['USE_PYGEOS'] = '0'\n",
      "import geopandas\n",
      "\n",
      "In a future release, GeoPandas will switch to using Shapely by default. If you are using PyGEOS directly (calling PyGEOS functions on geometries from GeoPandas), this will then stop working and you are encouraged to migrate from PyGEOS to Shapely 2.0 (https://shapely.readthedocs.io/en/latest/migration_pygeos.html).\n",
      "  import geopandas as gpd\n"
     ]
    }
   ],
   "source": [
    "import folium\n",
    "import numpy as np\n",
    "import pandas as pd\n",
    "import seaborn as sns\n",
    "import math\n",
    "from math import radians, sin, cos, sqrt\n",
    "import os\n",
    "import geopandas as gpd\n",
    "import psycopg2\n",
    "import ast\n",
    "import matplotlib.pyplot as plt\n",
    "import datetime\n",
    "from psycopg2 import sql\n",
    "from psycopg2.extras import Json\n",
    "from shapely.geometry import LineString, mapping, box, Polygon, Point\n",
    "from shapely import wkt\n",
    "from shapely.wkb import loads\n",
    "import shapely\n",
    "import json\n",
    "from myutil import *\n",
    "import scipy\n",
    "import myutil\n",
    "import pickle\n",
    "import pyproj\n",
    "from folium import plugins\n",
    "\n",
    "from geopy.distance import great_circle\n",
    "from scipy.spatial import KDTree, cKDTree\n",
    "from sklearn.neighbors import NearestNeighbors\n",
    "#from pykdtree.kdtree import KDTree\n",
    "from sklearn.neighbors import BallTree\n",
    "import sklearn.neighbors\n",
    "import pykdtree\n",
    "import rtree \n",
    "import pyqtree \n",
    "import quads\n",
    "from quads import QuadTree\n",
    "from pygeos import STRtree"
   ]
  },
  {
   "cell_type": "markdown",
   "metadata": {},
   "source": [
    "# Query: Find all data points (start point of other linestrings) within certain distance to a trajectory (start point of the given linestring) emerging on the same day."
   ]
  },
  {
   "cell_type": "markdown",
   "metadata": {},
   "source": [
    "Why did I change the query? Because each trip is considered independently, there's no interference during the taxi's movement. In other words, taxis will not stop to pick up additional passengers while in transit, so it is not necessary to check for other taxis while this taxi is in transit. (taxis are not buses)"
   ]
  },
  {
   "cell_type": "markdown",
   "metadata": {},
   "source": [
    "Explain my approaches for this query:\n",
    "- Approach 1: Find K-nearest neighbors within r (radius) distance (r is randomly selected, I don't know the exact number of r because it's not in meter or km, so the chosen r number is large enough in my experiment to cover these points). After that I use linear search to filter the distance as well as the timestamp (in the same day or not). I use KD-tree and Ball-tree radius_query for this approach.\n",
    "- Approach 2: Find all points in a region (bounding box) that is calculated from the {target point} by adding and subtracting a {target distance}. Then, using linear scan to filter timestamp and distance again (because the bounding box is a rectangle, points at the corners of that are outside our distance). I use R-tree for this approach as a demonstration. (or we can use KD-tree or others same as task 1 query that I've done)\n",
    "- For the performace comparison, I just compare performances in approach 1, and an example for R-tree approach 2, other approach-2 methods are not included in this task. The performances in region search have been showed in task 1"
   ]
  },
  {
   "cell_type": "markdown",
   "metadata": {},
   "source": [
    "## Init"
   ]
  },
  {
   "cell_type": "code",
   "execution_count": 2,
   "metadata": {},
   "outputs": [],
   "source": [
    "df = pd.read_csv(\"final_data.csv\")"
   ]
  },
  {
   "cell_type": "code",
   "execution_count": 3,
   "metadata": {},
   "outputs": [
    {
     "name": "stdout",
     "output_type": "stream",
     "text": [
      "Connected!\n"
     ]
    }
   ],
   "source": [
    "try:\n",
    "    # connect to the database\n",
    "    connection = psycopg2.connect(\n",
    "    host=\"localhost\",\n",
    "    port=\"5432\",\n",
    "    dbname=\"taxi_trajectory\",\n",
    "    user=\"postgres\",\n",
    "    password=\"123456\"\n",
    "    )\n",
    "    cursor = connection.cursor()\n",
    "    print(\"Connected!\")\n",
    "except print(0):\n",
    "    print(\"Connect error!\")"
   ]
  },
  {
   "cell_type": "code",
   "execution_count": 4,
   "metadata": {},
   "outputs": [
    {
     "name": "stdout",
     "output_type": "stream",
     "text": [
      "PostgreSQL connection is closed\n"
     ]
    }
   ],
   "source": [
    "# close connection\n",
    "if connection:\n",
    "    cursor.close()\n",
    "    connection.close()\n",
    "    print(\"PostgreSQL connection is closed\")"
   ]
  },
  {
   "cell_type": "code",
   "execution_count": null,
   "metadata": {},
   "outputs": [],
   "source": [
    "select_start_end_points_query = \"SELECT trip_id, timestamp, start_long, start_lat, end_long, end_lat, geom FROM taxi_trips\"\n",
    "cursor.execute(select_start_end_points_query)\n",
    "rows = cursor.fetchall()"
   ]
  },
  {
   "cell_type": "code",
   "execution_count": null,
   "metadata": {},
   "outputs": [],
   "source": []
  },
  {
   "cell_type": "markdown",
   "metadata": {},
   "source": [
    "Explain my query: Given a {trip_id}, find all the start_points within a distance {d} from the start point of that trip_id."
   ]
  },
  {
   "cell_type": "markdown",
   "metadata": {},
   "source": [
    "## Set up"
   ]
  },
  {
   "cell_type": "code",
   "execution_count": null,
   "metadata": {},
   "outputs": [],
   "source": [
    "# Make sure that the trip_id is available.\n",
    "distance_range = 50 # meter\n",
    "distance_range_km = distance_range / 1000\n",
    "target_trip_id = 1380586075620000431"
   ]
  },
  {
   "cell_type": "code",
   "execution_count": null,
   "metadata": {},
   "outputs": [
    {
     "name": "stdout",
     "output_type": "stream",
     "text": [
      "True\n"
     ]
    }
   ],
   "source": [
    "print(target_trip_id in set(df['trip_id']))"
   ]
  },
  {
   "cell_type": "code",
   "execution_count": null,
   "metadata": {},
   "outputs": [],
   "source": [
    "target_timestamp = df[df['trip_id'] == target_trip_id]['timestamp'].values[0]\n",
    "target_long = df[df['trip_id'] == target_trip_id]['start_long'].values[0]\n",
    "target_lat = df[df['trip_id'] == target_trip_id]['start_lat'].values[0]\n",
    "target_point = [[df[df['trip_id'] == target_trip_id]['start_long'].values[0], df[df['trip_id'] == target_trip_id]['start_lat'].values[0]]]\n",
    "target_point_shapely = Point(target_long, target_lat)"
   ]
  },
  {
   "cell_type": "code",
   "execution_count": null,
   "metadata": {},
   "outputs": [
    {
     "data": {
      "image/svg+xml": "<svg xmlns=\"http://www.w3.org/2000/svg\" xmlns:xlink=\"http://www.w3.org/1999/xlink\" width=\"100.0\" height=\"100.0\" viewBox=\"-9.640819 40.160033 2.0 2.0\" preserveAspectRatio=\"xMinYMin meet\"><g transform=\"matrix(1,0,0,-1,0,82.320066)\"><circle cx=\"-8.640819\" cy=\"41.160033\" r=\"0.06\" stroke=\"#555555\" stroke-width=\"0.02\" fill=\"#66cc99\" opacity=\"0.6\" /></g></svg>",
      "text/plain": [
       "<POINT (-8.641 41.16)>"
      ]
     },
     "execution_count": 203,
     "metadata": {},
     "output_type": "execute_result"
    }
   ],
   "source": [
    "target_point_shapely"
   ]
  },
  {
   "cell_type": "code",
   "execution_count": null,
   "metadata": {},
   "outputs": [
    {
     "data": {
      "text/plain": [
       "[[-8.640819, 41.160033]]"
      ]
     },
     "execution_count": 8,
     "metadata": {},
     "output_type": "execute_result"
    }
   ],
   "source": [
    "target_point"
   ]
  },
  {
   "cell_type": "markdown",
   "metadata": {},
   "source": [
    "## DB query"
   ]
  },
  {
   "cell_type": "markdown",
   "metadata": {},
   "source": [
    "Explain the steps of query:\n",
    "1. Select start_point from taxi_trips by given trip_id as a target_point\n",
    "2. Check is the point and target_point within a {distance} or not\n",
    "3. Check are 2 points in the same day or not\n",
    "4. The returned values except the {target_trip_id}"
   ]
  },
  {
   "cell_type": "code",
   "execution_count": null,
   "metadata": {},
   "outputs": [],
   "source": [
    "# This query is good, but the problem is how to define the distance ? (It's not in meter in our case)\n",
    "task3_query_db_2 = \"\"\" WITH target_point AS (\n",
    "\tSELECT trip_id, timestamp, ST_SetSRID(ST_MakePoint(start_long, start_lat), 4326) as point\n",
    "    FROM taxi_trips\n",
    "    WHERE trip_id = {}\n",
    ")\n",
    "SELECT trip_id, ST_DistanceSphere((SELECT point FROM target_point), ST_SetSRID(ST_MakePoint(start_long, start_lat), 4326)) as DistanceFromTargetPoint, timestamp, geom \n",
    "FROM taxi_trips\n",
    "WHERE ST_DWITHIN(\n",
    "\t(SELECT point FROM target_point),\n",
    "\tST_SetSRID(ST_MakePoint(start_long, start_lat), 4326),\n",
    "\t{}  -- This should be the distance in the spatial reference system (SRS) units. (Not meter)\n",
    ")\n",
    "AND date_trunc('day', to_timestamp(timestamp)) = (\n",
    "    SELECT date_trunc('day', to_timestamp(timestamp))\n",
    "    FROM target_point\n",
    ")\n",
    "AND trip_id != {};\n",
    "\"\"\".format(target_trip_id, 0.00039, target_trip_id) # change the distance"
   ]
  },
  {
   "cell_type": "code",
   "execution_count": null,
   "metadata": {},
   "outputs": [
    {
     "name": "stdout",
     "output_type": "stream",
     "text": [
      "Execution time:  0:00:00.754088\n",
      "18\n"
     ]
    }
   ],
   "source": [
    "t1 = datetime.datetime.now()\n",
    "cursor.execute(task3_query_db_2)\n",
    "t2 = datetime.datetime.now()\n",
    "print(\"Execution time: \", t2 - t1)\n",
    "db_query_time_2 = t2 - t1\n",
    "query3_result_db_2 = cursor.fetchall()\n",
    "print(len(query3_result_db_2))"
   ]
  },
  {
   "cell_type": "code",
   "execution_count": null,
   "metadata": {},
   "outputs": [],
   "source": [
    "task3_query_db_1 = \"\"\" WITH target_point AS (\n",
    "    SELECT trip_id, timestamp, ST_SetSRID(ST_MakePoint(start_long, start_lat), 4326) as point\n",
    "    FROM taxi_trips\n",
    "    WHERE trip_id = {}\n",
    ")\n",
    "SELECT trip_id, timestamp, ST_DistanceSphere((SELECT point FROM target_point), ST_SetSRID(ST_MakePoint(start_long, start_lat), 4326)) as DistanceFromTargetPoint--, geom \n",
    "FROM taxi_trips\n",
    "WHERE ST_DistanceSphere((SELECT point FROM target_point), ST_SetSRID(ST_MakePoint(start_long, start_lat), 4326)) <= {} -- Distance in meters\n",
    "AND date_trunc('day', to_timestamp(timestamp)) = (\n",
    "    SELECT date_trunc('day', to_timestamp(timestamp))\n",
    "    FROM target_point\n",
    ")\n",
    "AND trip_id != {};\n",
    "\"\"\".format(target_trip_id, distance_range, target_trip_id) # distance in meter"
   ]
  },
  {
   "cell_type": "code",
   "execution_count": null,
   "metadata": {},
   "outputs": [
    {
     "name": "stdout",
     "output_type": "stream",
     "text": [
      "Execution time:  0:00:00.874657\n",
      "19\n"
     ]
    }
   ],
   "source": [
    "t1 = datetime.datetime.now()\n",
    "cursor.execute(task3_query_db_1)\n",
    "t2 = datetime.datetime.now()\n",
    "print(\"Execution time: \", t2 - t1)\n",
    "db_query_time_1 = t2 - t1\n",
    "query3_result_db = cursor.fetchall()\n",
    "print(len(query3_result_db))"
   ]
  },
  {
   "cell_type": "code",
   "execution_count": null,
   "metadata": {},
   "outputs": [
    {
     "data": {
      "text/plain": [
       "[(1380558953620000410, 1380558953, 21.2954429),\n",
       " (1380557933620000001, 1380557933, 7.51603438),\n",
       " (1380564658620000577, 1380564658, 42.65911607),\n",
       " (1380564259620000634, 1380564259, 7.87438702),\n",
       " (1380565357620000148, 1380565357, 12.05509054),\n",
       " (1380627900620000251, 1380627900, 7.51603438),\n",
       " (1380606020620000189, 1380606020, 6.73386182),\n",
       " (1380608045620000503, 1380608045, 5.42678146),\n",
       " (1380635800620000359, 1380635800, 38.18442352),\n",
       " (1380555264620000254, 1380555264, 11.98964119),\n",
       " (1380554193620000432, 1380554193, 6.73386405),\n",
       " (1380555147620000410, 1380555147, 8.81490239),\n",
       " (1380556437620000065, 1380556437, 32.51079014),\n",
       " (1380559383620000352, 1380559383, 19.14823587),\n",
       " (1380617607620000128, 1380617607, 4.26590658),\n",
       " (1380615838620000324, 1380615838, 7.04569119),\n",
       " (1380618747620000436, 1380618747, 12.70233523),\n",
       " (1380620157620000380, 1380620157, 12.22011522),\n",
       " (1380622291620000346, 1380622291, 7.41589044)]"
      ]
     },
     "execution_count": 56,
     "metadata": {},
     "output_type": "execute_result"
    }
   ],
   "source": [
    "list(query3_result_db)"
   ]
  },
  {
   "cell_type": "markdown",
   "metadata": {},
   "source": [
    "## KD-tree Scipy query (wrong result)"
   ]
  },
  {
   "cell_type": "code",
   "execution_count": null,
   "metadata": {},
   "outputs": [
    {
     "name": "stdout",
     "output_type": "stream",
     "text": [
      "Execution time 0:00:01.680507\n"
     ]
    }
   ],
   "source": [
    "points = []\n",
    "timestamps = []\n",
    "t1 = datetime.datetime.now()\n",
    "for row in rows:\n",
    "    trip_id, timestamp, start_long, start_lat, end_long, end_lat, geom_wkt = row\n",
    "    points.append((start_long, start_lat, timestamp, trip_id))\n",
    "    timestamps.append(timestamp)\n",
    "\n",
    "points_array = np.array(points)\n",
    "mykdtree = cKDTree(points_array[:, :2])\n",
    "t2 = datetime.datetime.now()\n",
    "print(\"Execution time\", t2 - t1)\n",
    "kdtree_scipy_creation_time = t2 - t1"
   ]
  },
  {
   "cell_type": "code",
   "execution_count": null,
   "metadata": {},
   "outputs": [
    {
     "data": {
      "text/plain": [
       "array([[-8.624556, 41.183811],\n",
       "       [-8.685801, 41.164695],\n",
       "       [-8.606457, 41.144607],\n",
       "       ...,\n",
       "       [-8.611119, 41.149467],\n",
       "       [-8.628327, 41.157441],\n",
       "       [-8.630478, 41.154471]])"
      ]
     },
     "execution_count": 70,
     "metadata": {},
     "output_type": "execute_result"
    }
   ],
   "source": [
    "points_array[:, :2]"
   ]
  },
  {
   "cell_type": "code",
   "execution_count": null,
   "metadata": {},
   "outputs": [
    {
     "name": "stdout",
     "output_type": "stream",
     "text": [
      "1564\n",
      "[[-8.640882 41.15997 ]\n",
      " [-8.6409   41.159979]\n",
      " [-8.640882 41.159961]\n",
      " ...\n",
      " [-8.640747 41.160096]\n",
      " [-8.640747 41.160096]\n",
      " [-8.640747 41.160096]]\n"
     ]
    }
   ],
   "source": [
    "print(len(mykdtree.data[mykdtree.query_ball_point([target_long, target_lat], 0.0001)]))\n",
    "print(mykdtree.data[mykdtree.query_ball_point([target_long, target_lat], 0.0001)])"
   ]
  },
  {
   "cell_type": "code",
   "execution_count": null,
   "metadata": {},
   "outputs": [],
   "source": [
    "kdtree_scipy_indicies = mykdtree.query_ball_point([target_long, target_lat], 0.0001)"
   ]
  },
  {
   "cell_type": "code",
   "execution_count": null,
   "metadata": {},
   "outputs": [
    {
     "name": "stdout",
     "output_type": "stream",
     "text": [
      "Result Trip IDs: [1385821131620000512, 1383306523620000512, 1375303452620000256, 1385849647620000256, 1377963331620000256, 1380586075620000512, 1388520214620000512, 1377974594620000512, 1375303944620000000, 1380554193620000512, 1377966484620000256, 1388523471620000512, 1383252077620000000, 1378036798620000000, 1372685152620000000, 1375297997620000512, 1372670109620000512, 1385828195620000256, 1383251735620000256, 1377980656620000256, 1377970876620001024, 1380622291620000256, 1388584108620000256, 1375351638620000000, 1388521450620000000, 1388545480620000512, 1375309020620000000, 1383252185620000000, 1388527964620000256, 1388573946620000512, 1388561202620000512, 1378031010620000000, 1380617607620000256, 1388524419620000000, 1380608045620000512, 1388545685620000000, 1375298368620000256, 1391252767620000000, 1388520430620000768, 1388567319620000512, 1380557933620000000, 1380627900620000256, 1388505093620000000, 1383301986620000256, 1385846769620001024, 1380615838620000256, 1385905599620000000, 1388500071620000512, 1380606020620000256, 1385834296620000256, 1377963333620000256, 1380564259620000512, 1388525004620000768, 1375279440620000512, 1375350472620000512]\n",
      "Total: 55\n"
     ]
    }
   ],
   "source": [
    "retured_trip_ids_kdtree = []\n",
    "\n",
    "for idx in kdtree_scipy_indicies:\n",
    "    point_timestamp = int(timestamps[idx])\n",
    "    point_daytime = datetime.datetime.fromtimestamp(point_timestamp).day\n",
    "    \n",
    "    if point_daytime ==  datetime.datetime.fromtimestamp(target_timestamp).day:\n",
    "        retured_trip_ids_kdtree.append(int(points_array[idx][3]))  # Extract trip_id\n",
    "\n",
    "print(\"Result Trip IDs:\", retured_trip_ids_kdtree)\n",
    "\n",
    "print(\"Total:\", len(retured_trip_ids_kdtree))"
   ]
  },
  {
   "cell_type": "markdown",
   "metadata": {},
   "source": [
    "Wrong result."
   ]
  },
  {
   "cell_type": "markdown",
   "metadata": {},
   "source": [
    "## KD-tree Sklearn"
   ]
  },
  {
   "cell_type": "markdown",
   "metadata": {},
   "source": [
    "I think this website is useful: https://sciencing.com/convert-latitude-longtitude-feet-2724.html\n",
    "convert degree to meter\n",
    "\n",
    "Multiply the degrees of separation of longitude and latitude by 111,139 to get the corresponding linear distances in meters."
   ]
  },
  {
   "cell_type": "code",
   "execution_count": null,
   "metadata": {},
   "outputs": [
    {
     "name": "stdout",
     "output_type": "stream",
     "text": [
      "Execution time: 0:00:02.828413\n"
     ]
    }
   ],
   "source": [
    "# KD-tree - SK learn \n",
    "t1 = datetime.datetime.now()\n",
    "points = []\n",
    "timestamps = []\n",
    "for row in rows:\n",
    "    trip_id, timestamp, start_long, start_lat, end_long, end_lat, geom_wkt = row\n",
    "    #points.append((start_long, start_lat, timestamp, trip_id)) # 3D\n",
    "    points.append((start_long, start_lat)) # 2D\n",
    "    timestamps.append(timestamp)\n",
    "\n",
    "mykdtree_sklearn = sklearn.neighbors.KDTree(points)\n",
    "points_array = np.array(points)\n",
    "t2 = datetime.datetime.now()\n",
    "print(\"Execution time:\", t2 - t1)\n",
    "kdtree_sklearn_creation_time = t2 - t1"
   ]
  },
  {
   "cell_type": "code",
   "execution_count": null,
   "metadata": {},
   "outputs": [
    {
     "name": "stdout",
     "output_type": "stream",
     "text": [
      "range: 0.05 km\n",
      "total idicies: 1564\n",
      "Execution time 0:00:00.061834\n"
     ]
    }
   ],
   "source": [
    "target_point = [[target_long, target_lat]]\n",
    "distance_range_for_sklearn= 0.00039 # it's hard to select a correct number at the beginning. \n",
    "distance_range_km = distance_range / 1000\n",
    "print(\"range:\", distance_range_km, \"km\")\n",
    "kdtree_sklearn_result = set()\n",
    "\n",
    "t1 = datetime.datetime.now()\n",
    "kdtree_sklearn_indices, kdtree_sklearn_distances = mykdtree_sklearn.query_radius(target_point, distance_range_for_sklearn, return_distance= True)\n",
    "\n",
    "#print(\"total idicies:\", len(kdtree_scipy_indicies))\n",
    "\n",
    "for distance, index in zip(kdtree_sklearn_distances[0], kdtree_sklearn_indices[0]):\n",
    "    trip_id = rows[index][0]  # Extract trip_id from the corresponding row\n",
    "    timestamp = timestamps[index]  # Extract timestamp from the corresponding row\n",
    "    distance_to_target_point = great_circle((rows[index][2], rows[index][3]), (target_long, target_lat))\n",
    "    if (trip_id != target_trip_id):\n",
    "        if (distance_to_target_point <= distance_range_km): #convert to km\n",
    "            if (datetime.datetime.fromtimestamp(timestamp).date() == datetime.datetime.fromtimestamp(target_timestamp).date()):\n",
    "                kdtree_sklearn_result.add(trip_id)\n",
    "                #print(\"trip_id:\", trip_id, \"  dist:\", distance_to_target_point)\n",
    "                #print(\"distance from kdtree sklearn:\", distance)\n",
    "                \n",
    "t2 = datetime.datetime.now()\n",
    "print(\"Execution time\", t2 - t1)\n",
    "kdtree_sklearn_query_time = t2 - t1"
   ]
  },
  {
   "cell_type": "code",
   "execution_count": null,
   "metadata": {},
   "outputs": [
    {
     "data": {
      "text/plain": [
       "18"
      ]
     },
     "execution_count": 322,
     "metadata": {},
     "output_type": "execute_result"
    }
   ],
   "source": [
    "len(kdtree_sklearn_result)"
   ]
  },
  {
   "cell_type": "code",
   "execution_count": null,
   "metadata": {},
   "outputs": [
    {
     "data": {
      "text/plain": [
       "[1380559383620000352,\n",
       " 1380556437620000065,\n",
       " 1380617607620000128,\n",
       " 1380557933620000001,\n",
       " 1380615838620000324,\n",
       " 1380635800620000359,\n",
       " 1380558953620000410,\n",
       " 1380564259620000634,\n",
       " 1380608045620000503,\n",
       " 1380554193620000432,\n",
       " 1380565357620000148,\n",
       " 1380618747620000436,\n",
       " 1380555147620000410,\n",
       " 1380622291620000346,\n",
       " 1380627900620000251,\n",
       " 1380620157620000380,\n",
       " 1380606020620000189,\n",
       " 1380555264620000254]"
      ]
     },
     "execution_count": 313,
     "metadata": {},
     "output_type": "execute_result"
    }
   ],
   "source": [
    "list(kdtree_sklearn_result)"
   ]
  },
  {
   "cell_type": "code",
   "execution_count": null,
   "metadata": {},
   "outputs": [],
   "source": [
    "\"\"\"\n",
    "from DB\n",
    "[(1380558953620000410, 1380558953, 21.2954429),\n",
    " (1380557933620000001, 1380557933, 7.51603438),\n",
    " (1380564658620000577, 1380564658, 42.65911607),\n",
    " (1380564259620000634, 1380564259, 7.87438702),\n",
    " (1380565357620000148, 1380565357, 12.05509054),\n",
    " (1380627900620000251, 1380627900, 7.51603438),\n",
    " (1380606020620000189, 1380606020, 6.73386182),\n",
    " (1380608045620000503, 1380608045, 5.42678146),\n",
    " (1380635800620000359, 1380635800, 38.18442352),\n",
    " (1380555264620000254, 1380555264, 11.98964119),\n",
    " (1380554193620000432, 1380554193, 6.73386405),\n",
    " (1380555147620000410, 1380555147, 8.81490239),\n",
    " (1380556437620000065, 1380556437, 32.51079014),\n",
    " (1380559383620000352, 1380559383, 19.14823587),\n",
    " (1380617607620000128, 1380617607, 4.26590658),\n",
    " (1380615838620000324, 1380615838, 7.04569119),\n",
    " (1380618747620000436, 1380618747, 12.70233523),\n",
    " (1380620157620000380, 1380620157, 12.22011522),\n",
    " (1380622291620000346, 1380622291, 7.41589044)]\n",
    " \n",
    " From query #1 in DB script - (using ST_DWITHIN 0.00039 = 500 meters) \n",
    " - actually, I don't know how to calculate this number\n",
    " - just base on my experiment\n",
    " 1380558953620000410\n",
    "1380557933620000001\n",
    "1380564259620000634\n",
    "1380565357620000148\n",
    "1380606020620000189\n",
    "1380608045620000503\n",
    "1380627900620000251\n",
    "1380617607620000128\n",
    "1380615838620000324\n",
    "1380618747620000436\n",
    "1380620157620000380\n",
    "1380622291620000346\n",
    "1380555264620000254\n",
    "1380554193620000432\n",
    "1380555147620000410\n",
    "1380556437620000065\n",
    "1380559383620000352\n",
    "\n",
    " From KD-tree sklearn\n",
    " [1380559383620000352,\n",
    " 1380556437620000065,\n",
    " 1380617607620000128,\n",
    " 1380557933620000001,\n",
    " 1380615838620000324,\n",
    " 1380635800620000359,\n",
    " 1380558953620000410,\n",
    " 1380564259620000634,\n",
    " 1380608045620000503,\n",
    " 1380554193620000432,\n",
    " 1380565357620000148,\n",
    " 1380618747620000436,\n",
    " 1380555147620000410,\n",
    " 1380622291620000346,\n",
    " 1380627900620000251,\n",
    " 1380620157620000380,\n",
    " 1380606020620000189,\n",
    " 1380555264620000254]\n",
    " \n",
    " \"\"\""
   ]
  },
  {
   "cell_type": "markdown",
   "metadata": {},
   "source": [
    "## Ball-tree Sklearn"
   ]
  },
  {
   "cell_type": "markdown",
   "metadata": {},
   "source": [
    "The implementation is same as KD-tree above"
   ]
  },
  {
   "cell_type": "code",
   "execution_count": null,
   "metadata": {},
   "outputs": [
    {
     "name": "stdout",
     "output_type": "stream",
     "text": [
      "Execution time: 0:00:02.383334\n"
     ]
    }
   ],
   "source": [
    "# Ball-tree - SK learn\n",
    "t1 = datetime.datetime.now()\n",
    "points = []\n",
    "timestamps = []\n",
    "for row in rows:\n",
    "    trip_id, timestamp, start_long, start_lat, end_long, end_lat, geom_wkt = row\n",
    "    #points.append((start_long, start_lat, timestamp, trip_id)) # 3D\n",
    "    points.append((start_long, start_lat)) # 2D\n",
    "    timestamps.append(timestamp)\n",
    "\n",
    "myballtree_sklearn = sklearn.neighbors.BallTree(points)\n",
    "points_array = np.array(points)\n",
    "t2 = datetime.datetime.now()\n",
    "print(\"Execution time:\", t2 - t1)\n",
    "balltree_sklearn_creation_time = t2 - t1"
   ]
  },
  {
   "cell_type": "code",
   "execution_count": null,
   "metadata": {},
   "outputs": [
    {
     "name": "stdout",
     "output_type": "stream",
     "text": [
      "range: 0.05 km\n",
      "Execution time 0:00:00.048869\n"
     ]
    }
   ],
   "source": [
    "target_point = [[target_long, target_lat]]\n",
    "distance_range_for_sklearn= 0.00039 # it's hard to select a correct number at the beginning. \n",
    "distance_range_km = distance_range / 1000 # convert m to km\n",
    "print(\"range:\", distance_range_km, \"km\")\n",
    "balltree_sklearn_result = set()\n",
    "\n",
    "t1 = datetime.datetime.now()\n",
    "balltree_sklearn_indices, balltree_sklearn_distances = myballtree_sklearn.query_radius(target_point, distance_range_for_sklearn, return_distance= True)\n",
    "\n",
    "for distance, index in zip(balltree_sklearn_distances[0], balltree_sklearn_indices[0]):\n",
    "    trip_id = rows[index][0]  # Extract trip_id from the corresponding row\n",
    "    timestamp = timestamps[index]  # Extract timestamp from the corresponding row\n",
    "    distance_to_target_point = great_circle((rows[index][2], rows[index][3]), (target_long, target_lat))\n",
    "    if (trip_id != target_trip_id):\n",
    "        if (distance_to_target_point <= distance_range_km): #convert to km\n",
    "            if (datetime.datetime.fromtimestamp(timestamp).date() == datetime.datetime.fromtimestamp(target_timestamp).date()):\n",
    "                balltree_sklearn_result.add(trip_id)\n",
    "                \n",
    "t2 = datetime.datetime.now()\n",
    "print(\"Execution time\", t2 - t1)\n",
    "balltree_sklearn_query_time = t2 - t1"
   ]
  },
  {
   "cell_type": "code",
   "execution_count": null,
   "metadata": {},
   "outputs": [
    {
     "data": {
      "text/plain": [
       "18"
      ]
     },
     "execution_count": 372,
     "metadata": {},
     "output_type": "execute_result"
    }
   ],
   "source": [
    "len(balltree_sklearn_result)"
   ]
  },
  {
   "cell_type": "code",
   "execution_count": null,
   "metadata": {},
   "outputs": [
    {
     "data": {
      "text/plain": [
       "[1380559383620000352,\n",
       " 1380556437620000065,\n",
       " 1380617607620000128,\n",
       " 1380557933620000001,\n",
       " 1380615838620000324,\n",
       " 1380635800620000359,\n",
       " 1380558953620000410,\n",
       " 1380564259620000634,\n",
       " 1380608045620000503,\n",
       " 1380554193620000432,\n",
       " 1380565357620000148,\n",
       " 1380618747620000436,\n",
       " 1380555147620000410,\n",
       " 1380622291620000346,\n",
       " 1380627900620000251,\n",
       " 1380620157620000380,\n",
       " 1380606020620000189,\n",
       " 1380555264620000254]"
      ]
     },
     "execution_count": 333,
     "metadata": {},
     "output_type": "execute_result"
    }
   ],
   "source": [
    "list(balltree_sklearn_result)"
   ]
  },
  {
   "cell_type": "markdown",
   "metadata": {},
   "source": [
    "## R-tree query"
   ]
  },
  {
   "cell_type": "code",
   "execution_count": null,
   "metadata": {},
   "outputs": [],
   "source": [
    "def translate_latlong(lat, long, lat_translation_meters, long_translation_meters):\n",
    "    ''' method to move any lat,long point by provided meters in lat and long direction.\n",
    "    params :\n",
    "        lat,long: lattitude and longitude in degrees as decimal values, e.g. 41.15554, -8.6348530\n",
    "        lat_translation_meters: movement of point in meters in lattitude direction.\n",
    "                                positive value: up move, negative value: down move\n",
    "        long_translation_meters: movement of point in meters in longitude direction.\n",
    "                                positive value: left move, negative value: right move\n",
    "        '''\n",
    "    earth_radius = 6378.137\n",
    "\n",
    "    #Calculate top, which is lat_translation_meters above\n",
    "    m_lat = (1 / ((2 * math.pi / 360) * earth_radius)) / 1000;  \n",
    "    lat_new = lat + (lat_translation_meters * m_lat)\n",
    "\n",
    "    #Calculate right, which is long_translation_meters right\n",
    "    m_long = (1 / ((2 * math.pi / 360) * earth_radius)) / 1000;  # 1 meter in degree\n",
    "    long_new = long + (long_translation_meters * m_long) / math.cos(lat * (math.pi / 180));\n",
    "    \n",
    "    return lat_new,long_new"
   ]
  },
  {
   "cell_type": "code",
   "execution_count": 381,
   "metadata": {},
   "outputs": [
    {
     "name": "stdout",
     "output_type": "stream",
     "text": [
      "X + 50 meters: 41.16048215764206\n",
      "X - 50 meters: 41.15958384235794\n",
      "Y + 50 meters: -8.64022240943679\n",
      "Y - 50 meters: -8.641415590563211\n"
     ]
    }
   ],
   "source": [
    "lat_translation_meters = long_translation_meters = distance_range = 50 #meter\n",
    "# Calculate new coordinates\n",
    "x_plus, y_plus = translate_latlong(target_lat, target_long, lat_translation_meters, long_translation_meters)\n",
    "x_minus, y_minus = translate_latlong(target_lat, target_long, -lat_translation_meters, -long_translation_meters)\n",
    "\n",
    "# Output\n",
    "print(\"X + 50 meters:\", x_plus)\n",
    "print(\"X - 50 meters:\", x_minus)\n",
    "print(\"Y + 50 meters:\", y_plus)\n",
    "print(\"Y - 50 meters:\", y_minus)"
   ]
  },
  {
   "cell_type": "code",
   "execution_count": 338,
   "metadata": {},
   "outputs": [],
   "source": [
    "# move up\n",
    "x_minus_3, y_minus_3 = translate_latlong(target_lat, target_long, lat_translation_meters, 0)"
   ]
  },
  {
   "cell_type": "code",
   "execution_count": 374,
   "metadata": {},
   "outputs": [
    {
     "name": "stdout",
     "output_type": "stream",
     "text": [
      "0.0826972625514468 km\n",
      "0.08269721590114308 km\n",
      "0.49377235719869356 km\n"
     ]
    }
   ],
   "source": [
    "# test\n",
    "# top-right corner\n",
    "print(great_circle((target_long, target_lat), (y_plus, x_plus)))\n",
    "# bottom-left corner\n",
    "print(great_circle((target_long, target_lat), (y_minus, x_minus)))\n",
    "print(great_circle((target_long, target_lat), (y_minus_3, x_minus_3)))"
   ]
  },
  {
   "cell_type": "code",
   "execution_count": 375,
   "metadata": {},
   "outputs": [
    {
     "data": {
      "text/html": [
       "<div style=\"width:100%;\"><div style=\"position:relative;width:100%;height:0;padding-bottom:60%;\"><span style=\"color:#565656\">Make this Notebook Trusted to load map: File -> Trust Notebook</span><iframe srcdoc=\"&lt;!DOCTYPE html&gt;\n",
       "&lt;html&gt;\n",
       "&lt;head&gt;\n",
       "    \n",
       "    &lt;meta http-equiv=&quot;content-type&quot; content=&quot;text/html; charset=UTF-8&quot; /&gt;\n",
       "    \n",
       "        &lt;script&gt;\n",
       "            L_NO_TOUCH = false;\n",
       "            L_DISABLE_3D = false;\n",
       "        &lt;/script&gt;\n",
       "    \n",
       "    &lt;style&gt;html, body {width: 100%;height: 100%;margin: 0;padding: 0;}&lt;/style&gt;\n",
       "    &lt;style&gt;#map {position:absolute;top:0;bottom:0;right:0;left:0;}&lt;/style&gt;\n",
       "    &lt;script src=&quot;https://cdn.jsdelivr.net/npm/leaflet@1.9.3/dist/leaflet.js&quot;&gt;&lt;/script&gt;\n",
       "    &lt;script src=&quot;https://code.jquery.com/jquery-1.12.4.min.js&quot;&gt;&lt;/script&gt;\n",
       "    &lt;script src=&quot;https://cdn.jsdelivr.net/npm/bootstrap@5.2.2/dist/js/bootstrap.bundle.min.js&quot;&gt;&lt;/script&gt;\n",
       "    &lt;script src=&quot;https://cdnjs.cloudflare.com/ajax/libs/Leaflet.awesome-markers/2.0.2/leaflet.awesome-markers.js&quot;&gt;&lt;/script&gt;\n",
       "    &lt;link rel=&quot;stylesheet&quot; href=&quot;https://cdn.jsdelivr.net/npm/leaflet@1.9.3/dist/leaflet.css&quot;/&gt;\n",
       "    &lt;link rel=&quot;stylesheet&quot; href=&quot;https://cdn.jsdelivr.net/npm/bootstrap@5.2.2/dist/css/bootstrap.min.css&quot;/&gt;\n",
       "    &lt;link rel=&quot;stylesheet&quot; href=&quot;https://netdna.bootstrapcdn.com/bootstrap/3.0.0/css/bootstrap.min.css&quot;/&gt;\n",
       "    &lt;link rel=&quot;stylesheet&quot; href=&quot;https://cdn.jsdelivr.net/npm/@fortawesome/fontawesome-free@6.2.0/css/all.min.css&quot;/&gt;\n",
       "    &lt;link rel=&quot;stylesheet&quot; href=&quot;https://cdnjs.cloudflare.com/ajax/libs/Leaflet.awesome-markers/2.0.2/leaflet.awesome-markers.css&quot;/&gt;\n",
       "    &lt;link rel=&quot;stylesheet&quot; href=&quot;https://cdn.jsdelivr.net/gh/python-visualization/folium/folium/templates/leaflet.awesome.rotate.min.css&quot;/&gt;\n",
       "    \n",
       "            &lt;meta name=&quot;viewport&quot; content=&quot;width=device-width,\n",
       "                initial-scale=1.0, maximum-scale=1.0, user-scalable=no&quot; /&gt;\n",
       "            &lt;style&gt;\n",
       "                #map_ec69756030629d7635534ddf032ce1c6 {\n",
       "                    position: relative;\n",
       "                    width: 100.0%;\n",
       "                    height: 100.0%;\n",
       "                    left: 0.0%;\n",
       "                    top: 0.0%;\n",
       "                }\n",
       "                .leaflet-container { font-size: 1rem; }\n",
       "            &lt;/style&gt;\n",
       "        \n",
       "&lt;/head&gt;\n",
       "&lt;body&gt;\n",
       "    \n",
       "    \n",
       "            &lt;div class=&quot;folium-map&quot; id=&quot;map_ec69756030629d7635534ddf032ce1c6&quot; &gt;&lt;/div&gt;\n",
       "        \n",
       "&lt;/body&gt;\n",
       "&lt;script&gt;\n",
       "    \n",
       "    \n",
       "            var map_ec69756030629d7635534ddf032ce1c6 = L.map(\n",
       "                &quot;map_ec69756030629d7635534ddf032ce1c6&quot;,\n",
       "                {\n",
       "                    center: [41.160033, -8.640819],\n",
       "                    crs: L.CRS.EPSG3857,\n",
       "                    zoom: 15,\n",
       "                    zoomControl: true,\n",
       "                    preferCanvas: false,\n",
       "                }\n",
       "            );\n",
       "\n",
       "            \n",
       "\n",
       "        \n",
       "    \n",
       "            var tile_layer_a65d4fb5259682b65ef04b664a164b9f = L.tileLayer(\n",
       "                &quot;https://{s}.tile.openstreetmap.org/{z}/{x}/{y}.png&quot;,\n",
       "                {&quot;attribution&quot;: &quot;Data by \\u0026copy; \\u003ca target=\\&quot;_blank\\&quot; href=\\&quot;http://openstreetmap.org\\&quot;\\u003eOpenStreetMap\\u003c/a\\u003e, under \\u003ca target=\\&quot;_blank\\&quot; href=\\&quot;http://www.openstreetmap.org/copyright\\&quot;\\u003eODbL\\u003c/a\\u003e.&quot;, &quot;detectRetina&quot;: false, &quot;maxNativeZoom&quot;: 18, &quot;maxZoom&quot;: 18, &quot;minZoom&quot;: 0, &quot;noWrap&quot;: false, &quot;opacity&quot;: 1, &quot;subdomains&quot;: &quot;abc&quot;, &quot;tms&quot;: false}\n",
       "            ).addTo(map_ec69756030629d7635534ddf032ce1c6);\n",
       "        \n",
       "    \n",
       "            var marker_bd1103726a988e00b4b264d0ff8bd796 = L.marker(\n",
       "                [41.160033, -8.640819],\n",
       "                {}\n",
       "            ).addTo(map_ec69756030629d7635534ddf032ce1c6);\n",
       "        \n",
       "    \n",
       "            var icon_c0f82292507d146e616328897645c0d3 = L.AwesomeMarkers.icon(\n",
       "                {&quot;extraClasses&quot;: &quot;fa-rotate-0&quot;, &quot;icon&quot;: &quot;info-sign&quot;, &quot;iconColor&quot;: &quot;white&quot;, &quot;markerColor&quot;: &quot;red&quot;, &quot;prefix&quot;: &quot;glyphicon&quot;}\n",
       "            );\n",
       "            marker_bd1103726a988e00b4b264d0ff8bd796.setIcon(icon_c0f82292507d146e616328897645c0d3);\n",
       "        \n",
       "    \n",
       "        var popup_d99fa354f9846d795106b8525dafe11e = L.popup({&quot;maxWidth&quot;: &quot;100%&quot;});\n",
       "\n",
       "        \n",
       "            \n",
       "                var html_69e7f1cdf65391caad6163585e9c758c = $(`&lt;div id=&quot;html_69e7f1cdf65391caad6163585e9c758c&quot; style=&quot;width: 100.0%; height: 100.0%;&quot;&gt;Point&lt;/div&gt;`)[0];\n",
       "                popup_d99fa354f9846d795106b8525dafe11e.setContent(html_69e7f1cdf65391caad6163585e9c758c);\n",
       "            \n",
       "        \n",
       "\n",
       "        marker_bd1103726a988e00b4b264d0ff8bd796.bindPopup(popup_d99fa354f9846d795106b8525dafe11e)\n",
       "        ;\n",
       "\n",
       "        \n",
       "    \n",
       "    \n",
       "            var polygon_e5ab930a82676fdd788cc350004617c3 = L.polygon(\n",
       "                [[41.15958384235794, -8.641415590563211], [41.15958384235794, -8.64022240943679], [41.16048215764206, -8.64022240943679], [41.16048215764206, -8.641415590563211]],\n",
       "                {&quot;bubblingMouseEvents&quot;: true, &quot;color&quot;: &quot;blue&quot;, &quot;dashArray&quot;: null, &quot;dashOffset&quot;: null, &quot;fill&quot;: true, &quot;fillColor&quot;: &quot;blue&quot;, &quot;fillOpacity&quot;: 0.3, &quot;fillRule&quot;: &quot;evenodd&quot;, &quot;lineCap&quot;: &quot;round&quot;, &quot;lineJoin&quot;: &quot;round&quot;, &quot;noClip&quot;: false, &quot;opacity&quot;: 1.0, &quot;smoothFactor&quot;: 1.0, &quot;stroke&quot;: true, &quot;weight&quot;: 3}\n",
       "            ).addTo(map_ec69756030629d7635534ddf032ce1c6);\n",
       "        \n",
       "    \n",
       "            map_ec69756030629d7635534ddf032ce1c6.fitBounds(\n",
       "                [[41.15958384235794, -8.641415590563211], [41.15958384235794, -8.64022240943679], [41.16048215764206, -8.64022240943679], [41.16048215764206, -8.641415590563211]],\n",
       "                {}\n",
       "            );\n",
       "        \n",
       "&lt;/script&gt;\n",
       "&lt;/html&gt;\" style=\"position:absolute;width:100%;height:100%;left:0;top:0;border:none !important;\" allowfullscreen webkitallowfullscreen mozallowfullscreen></iframe></div></div>"
      ],
      "text/plain": [
       "<folium.folium.Map at 0x20def6eb2b0>"
      ]
     },
     "execution_count": 375,
     "metadata": {},
     "output_type": "execute_result"
    }
   ],
   "source": [
    "plot_point_and_bounding_box(target_long, target_lat, y_minus, x_minus, y_plus, x_plus)"
   ]
  },
  {
   "cell_type": "code",
   "execution_count": 341,
   "metadata": {},
   "outputs": [],
   "source": [
    "# Create R-tree index\n",
    "p = rtree.index.Property()\n",
    "p.dimension = 2  # Three dimensions: x, y (bounding box) and timestamp\n",
    "myrtree = rtree.index.Index(properties=p)"
   ]
  },
  {
   "cell_type": "code",
   "execution_count": 342,
   "metadata": {},
   "outputs": [
    {
     "name": "stdout",
     "output_type": "stream",
     "text": [
      "Execution time 0:01:14.505482\n"
     ]
    }
   ],
   "source": [
    "t1 = datetime.datetime.now()\n",
    "for row in rows:\n",
    "    trip_id, timestamp, start_long, start_lat, end_long, end_lat, geom_wkt = row\n",
    "    myrtree.insert(int(trip_id), (start_long, start_lat, start_long, start_lat))\n",
    "t2 = datetime.datetime.now()\n",
    "print(\"Execution time\", t2 - t1)\n",
    "rtree_creation_time = t2 - t1 "
   ]
  },
  {
   "cell_type": "code",
   "execution_count": 376,
   "metadata": {},
   "outputs": [
    {
     "name": "stdout",
     "output_type": "stream",
     "text": [
      "Execution time: 0:00:00.003992\n"
     ]
    }
   ],
   "source": [
    "query_bounds = (y_minus, x_minus, y_plus, x_plus)\n",
    "t1 = datetime.datetime.now()\n",
    "retured_trip_ids_rtree = myrtree.intersection(query_bounds)\n",
    "t2 = datetime.datetime.now()\n",
    "print(\"Execution time:\", t2-t1)\n",
    "rtree_query_time = t2 - t1\n",
    "retured_trip_ids_rtree = list(retured_trip_ids_rtree)"
   ]
  },
  {
   "cell_type": "code",
   "execution_count": 377,
   "metadata": {},
   "outputs": [
    {
     "name": "stdout",
     "output_type": "stream",
     "text": [
      "Filtered results Execution time: 0:00:05.800490\n",
      "Total query time: 0:00:05.804482\n"
     ]
    }
   ],
   "source": [
    "retured_trip_ids_rtree = list(retured_trip_ids_rtree)\n",
    "\n",
    "filtered_trip_ids = set()\n",
    "t1 = datetime.datetime.now()\n",
    "for trip_id in retured_trip_ids_rtree:\n",
    "    idx = df[df['trip_id'] == trip_id].index[0]\n",
    "    point = (df['start_long'][idx], df['start_lat'][idx])\n",
    "    timestamp = df['timestamp'][idx]\n",
    "    if (trip_id != target_trip_id):\n",
    "        if (great_circle(point, (target_long, target_lat)) <= distance_range_km):\n",
    "            if (datetime.datetime.fromtimestamp(timestamp).date() == datetime.datetime.fromtimestamp(target_timestamp).date()):\n",
    "                filtered_trip_ids.add(trip_id)\n",
    "    \n",
    "t2 = datetime.datetime.now()\n",
    "print(\"Filtered results Execution time:\", t2 - t1)\n",
    "rtree_query_time += t2 - t1\n",
    "print(\"Total query time:\", rtree_query_time)"
   ]
  },
  {
   "cell_type": "code",
   "execution_count": 379,
   "metadata": {},
   "outputs": [
    {
     "data": {
      "text/plain": [
       "18"
      ]
     },
     "execution_count": 379,
     "metadata": {},
     "output_type": "execute_result"
    }
   ],
   "source": [
    "len(filtered_trip_ids)"
   ]
  },
  {
   "cell_type": "code",
   "execution_count": 354,
   "metadata": {},
   "outputs": [
    {
     "data": {
      "text/plain": [
       "{1380554193620000432,\n",
       " 1380555147620000410,\n",
       " 1380555264620000254,\n",
       " 1380556437620000065,\n",
       " 1380557933620000001,\n",
       " 1380558953620000410,\n",
       " 1380559383620000352,\n",
       " 1380564259620000634,\n",
       " 1380565357620000148,\n",
       " 1380606020620000189,\n",
       " 1380608045620000503,\n",
       " 1380615838620000324,\n",
       " 1380617607620000128,\n",
       " 1380618747620000436,\n",
       " 1380620157620000380,\n",
       " 1380622291620000346,\n",
       " 1380627900620000251,\n",
       " 1380635800620000359}"
      ]
     },
     "execution_count": 354,
     "metadata": {},
     "output_type": "execute_result"
    }
   ],
   "source": [
    "filtered_trip_ids"
   ]
  },
  {
   "cell_type": "code",
   "execution_count": null,
   "metadata": {},
   "outputs": [],
   "source": [
    "\"\"\" It's correct\n",
    "    From DB\n",
    "    [(1380558953620000410, 1380558953, 21.2954429),\n",
    " (1380557933620000001, 1380557933, 7.51603438),\n",
    " (1380564658620000577, 1380564658, 42.65911607),\n",
    " (1380564259620000634, 1380564259, 7.87438702),\n",
    " (1380565357620000148, 1380565357, 12.05509054),\n",
    " (1380627900620000251, 1380627900, 7.51603438),\n",
    " (1380606020620000189, 1380606020, 6.73386182),\n",
    " (1380608045620000503, 1380608045, 5.42678146),\n",
    " (1380635800620000359, 1380635800, 38.18442352),\n",
    " (1380555264620000254, 1380555264, 11.98964119),\n",
    " (1380554193620000432, 1380554193, 6.73386405),\n",
    " (1380555147620000410, 1380555147, 8.81490239),\n",
    " (1380556437620000065, 1380556437, 32.51079014),\n",
    " (1380559383620000352, 1380559383, 19.14823587),\n",
    " (1380617607620000128, 1380617607, 4.26590658),\n",
    " (1380615838620000324, 1380615838, 7.04569119),\n",
    " (1380618747620000436, 1380618747, 12.70233523),\n",
    " (1380620157620000380, 1380620157, 12.22011522),\n",
    " (1380622291620000346, 1380622291, 7.41589044)]\n",
    "    \n",
    "    R-tree\n",
    "    {1380554193620000432,\n",
    " 1380555147620000410,\n",
    " 1380555264620000254,\n",
    " 1380556437620000065,\n",
    " 1380557933620000001,\n",
    " 1380558953620000410,\n",
    " 1380559383620000352,\n",
    " 1380564259620000634,\n",
    " 1380565357620000148,\n",
    " 1380606020620000189,\n",
    " 1380608045620000503,\n",
    " 1380615838620000324,\n",
    " 1380617607620000128,\n",
    " 1380618747620000436,\n",
    " 1380620157620000380,\n",
    " 1380622291620000346,\n",
    " 1380627900620000251,\n",
    " 1380635800620000359}\n",
    "    \"\"\""
   ]
  },
  {
   "cell_type": "markdown",
   "metadata": {},
   "source": [
    "## Linear scan (brute force)"
   ]
  },
  {
   "cell_type": "markdown",
   "metadata": {},
   "source": [
    "(small talk) I don't like this technique, it's pretty... dumb :D"
   ]
  },
  {
   "cell_type": "code",
   "execution_count": 399,
   "metadata": {},
   "outputs": [
    {
     "name": "stdout",
     "output_type": "stream",
     "text": [
      "Execution time 0:00:11.554141\n"
     ]
    }
   ],
   "source": [
    "linear_scan_returned_ids = set()\n",
    "t1 = datetime.datetime.now()\n",
    "for row in rows:\n",
    "    trip_id, timestamp, start_long, start_lat, end_long, end_lat, geom_wkt = row\n",
    "    distance_to_target = great_circle((start_long, start_lat), (target_long, target_lat))                              \n",
    "    if ((distance_to_target <= distance_range_km)\n",
    "        and (datetime.datetime.fromtimestamp(timestamp).date() == datetime.datetime.fromtimestamp(target_timestamp).date())\n",
    "        and (trip_id != target_trip_id)):\n",
    "            linear_scan_returned_ids.add(trip_id)\n",
    "            #print(\"distance:\", distance_to_target)\n",
    "t2 = datetime.datetime.now()\n",
    "print(\"Execution time\", t2 - t1)\n",
    "linear_scan_query_time = t2 - t1\n"
   ]
  },
  {
   "cell_type": "code",
   "execution_count": 398,
   "metadata": {},
   "outputs": [
    {
     "data": {
      "text/plain": [
       "18"
      ]
     },
     "execution_count": 398,
     "metadata": {},
     "output_type": "execute_result"
    }
   ],
   "source": [
    "len(linear_scan_returned_ids)"
   ]
  },
  {
   "cell_type": "code",
   "execution_count": 401,
   "metadata": {},
   "outputs": [
    {
     "data": {
      "text/plain": [
       "{1380554193620000432,\n",
       " 1380555147620000410,\n",
       " 1380555264620000254,\n",
       " 1380556437620000065,\n",
       " 1380557933620000001,\n",
       " 1380558953620000410,\n",
       " 1380559383620000352,\n",
       " 1380564259620000634,\n",
       " 1380565357620000148,\n",
       " 1380606020620000189,\n",
       " 1380608045620000503,\n",
       " 1380615838620000324,\n",
       " 1380617607620000128,\n",
       " 1380618747620000436,\n",
       " 1380620157620000380,\n",
       " 1380622291620000346,\n",
       " 1380627900620000251,\n",
       " 1380635800620000359}"
      ]
     },
     "execution_count": 401,
     "metadata": {},
     "output_type": "execute_result"
    }
   ],
   "source": [
    "linear_scan_returned_ids"
   ]
  },
  {
   "cell_type": "code",
   "execution_count": null,
   "metadata": {},
   "outputs": [],
   "source": []
  },
  {
   "cell_type": "markdown",
   "metadata": {},
   "source": [
    "# Compare performace"
   ]
  },
  {
   "cell_type": "markdown",
   "metadata": {},
   "source": [
    "## Creation time"
   ]
  },
  {
   "cell_type": "code",
   "execution_count": 383,
   "metadata": {},
   "outputs": [
    {
     "data": {
      "image/png": "[encoded data removed]",
      "text/plain": [
       "<Figure size 640x480 with 1 Axes>"
      ]
     },
     "metadata": {},
     "output_type": "display_data"
    }
   ],
   "source": [
    "creation_time_all = {'Kd-tree': kdtree_sklearn_creation_time.total_seconds(), \n",
    "                     'Ball-tree': balltree_sklearn_creation_time.total_seconds(),\n",
    "                     'R-tree': rtree_creation_time.total_seconds()}\n",
    "\n",
    "plt.bar(creation_time_all.keys(), creation_time_all.values())\n",
    "plt.xlabel('Tree Type')\n",
    "plt.ylabel('Creation Time (in seconds)')\n",
    "plt.title('Comparison of Tree Creation Times')\n",
    "plt.show()"
   ]
  },
  {
   "cell_type": "markdown",
   "metadata": {},
   "source": [
    "## Query time"
   ]
  },
  {
   "cell_type": "code",
   "execution_count": 402,
   "metadata": {},
   "outputs": [
    {
     "data": {
      "image/png": "[encoded data removed]",
      "text/plain": [
       "<Figure size 640x480 with 1 Axes>"
      ]
     },
     "metadata": {},
     "output_type": "display_data"
    }
   ],
   "source": [
    "query_time_all = {'Linear scan from database method 1': db_query_time_1.total_seconds(),\n",
    "                  'Linear scan from database method 2': db_query_time_2.total_seconds(),\n",
    "                  'Linear scan': linear_scan_query_time.total_seconds(),\n",
    "                  'R-tree': rtree_query_time.total_seconds(), \n",
    "                  'Kd-tree (sklearn)': kdtree_sklearn_query_time.total_seconds(), \n",
    "                  'Ball-tree (sklearn)': balltree_sklearn_query_time.total_seconds()}\n",
    "\n",
    "plt.bar(query_time_all.keys(), query_time_all.values())\n",
    "\n",
    "plt.xlabel('Data Structure Type')\n",
    "plt.ylabel('Total Query Execution Time (in seconds)')\n",
    "plt.title('Comparison of Tree Query Execution Times in Task 3')\n",
    "plt.xticks(rotation=45)\n",
    "plt.show()"
   ]
  },
  {
   "cell_type": "markdown",
   "metadata": {},
   "source": [
    "Explaination: linear scan (from python) is much slower because there's no indexing technique applied (but DB has). R-tree seems not efficient in this case because it takes a lot of time to find the intersections. KD-tree and Ball-tree are both good, however, as I mentioned before, choosing the \"radius r\" at the beginning is also an issue to consider"
   ]
  },
  {
   "cell_type": "markdown",
   "metadata": {},
   "source": []
  }
 ],
 "metadata": {
  "kernelspec": {
   "display_name": "Python 3.10.11 ('venv': venv)",
   "language": "python",
   "name": "python3"
  },
  "language_info": {
   "codemirror_mode": {
    "name": "ipython",
    "version": 3
   },
   "file_extension": ".py",
   "mimetype": "text/x-python",
   "name": "python",
   "nbconvert_exporter": "python",
   "pygments_lexer": "ipython3",
   "version": "3.10.11"
  },
  "orig_nbformat": 4,
  "vscode": {
   "interpreter": {
    "hash": "a11e5bc30db5509b5b617a0ce2744ddc4b1c195b2de55c6d104fe07b02eb0d58"
   }
  }
 },
 "nbformat": 4,
 "nbformat_minor": 2
}
